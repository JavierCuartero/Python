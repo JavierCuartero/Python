{
 "cells": [
  {
   "cell_type": "code",
   "execution_count": 89,
   "id": "53814620",
   "metadata": {},
   "outputs": [],
   "source": [
    "# NumPy Arrays"
   ]
  },
  {
   "cell_type": "code",
   "execution_count": 90,
   "id": "a2ee62d9",
   "metadata": {},
   "outputs": [],
   "source": [
    "import numpy as np"
   ]
  },
  {
   "cell_type": "code",
   "execution_count": 91,
   "id": "92cf7fa8",
   "metadata": {},
   "outputs": [],
   "source": [
    "mylist = [1,2,3]"
   ]
  },
  {
   "cell_type": "code",
   "execution_count": 92,
   "id": "098beff8",
   "metadata": {},
   "outputs": [],
   "source": [
    "arr = np.array(mylist) # 1D array"
   ]
  },
  {
   "cell_type": "code",
   "execution_count": 93,
   "id": "c0785399",
   "metadata": {},
   "outputs": [
    {
     "data": {
      "text/plain": [
       "array([1, 2, 3])"
      ]
     },
     "execution_count": 93,
     "metadata": {},
     "output_type": "execute_result"
    }
   ],
   "source": [
    "arr"
   ]
  },
  {
   "cell_type": "raw",
   "id": "fff4fbd5",
   "metadata": {},
   "source": []
  },
  {
   "cell_type": "code",
   "execution_count": 94,
   "id": "3ed37b0e",
   "metadata": {},
   "outputs": [],
   "source": [
    "my_mat = [[1,2,3],[4,5,6],[7,8,9]]"
   ]
  },
  {
   "cell_type": "code",
   "execution_count": 95,
   "id": "9c5fe8e0",
   "metadata": {},
   "outputs": [
    {
     "data": {
      "text/plain": [
       "array([[1, 2, 3],\n",
       "       [4, 5, 6],\n",
       "       [7, 8, 9]])"
      ]
     },
     "execution_count": 95,
     "metadata": {},
     "output_type": "execute_result"
    }
   ],
   "source": [
    "np.array(my_mat)  # a 2D array list of lists"
   ]
  },
  {
   "cell_type": "code",
   "execution_count": null,
   "id": "73c276da",
   "metadata": {},
   "outputs": [],
   "source": []
  },
  {
   "cell_type": "code",
   "execution_count": 96,
   "id": "c36c9324",
   "metadata": {},
   "outputs": [],
   "source": [
    "# Create range matrix. Similar to range but it returns arrays"
   ]
  },
  {
   "cell_type": "code",
   "execution_count": 97,
   "id": "ccd20237",
   "metadata": {},
   "outputs": [
    {
     "data": {
      "text/plain": [
       "array([ 0,  2,  4,  6,  8, 10])"
      ]
     },
     "execution_count": 97,
     "metadata": {},
     "output_type": "execute_result"
    }
   ],
   "source": [
    "np.arange(0,11,2) # start, stop ,step"
   ]
  },
  {
   "cell_type": "code",
   "execution_count": null,
   "id": "a6969ffa",
   "metadata": {},
   "outputs": [],
   "source": []
  },
  {
   "cell_type": "code",
   "execution_count": 98,
   "id": "841a5557",
   "metadata": {},
   "outputs": [],
   "source": [
    "#  0's array"
   ]
  },
  {
   "cell_type": "code",
   "execution_count": 99,
   "id": "772a1c09",
   "metadata": {},
   "outputs": [
    {
     "data": {
      "text/plain": [
       "array([0., 0., 0.])"
      ]
     },
     "execution_count": 99,
     "metadata": {},
     "output_type": "execute_result"
    }
   ],
   "source": [
    "np.zeros(3)"
   ]
  },
  {
   "cell_type": "code",
   "execution_count": 100,
   "id": "5cd3d8fa",
   "metadata": {},
   "outputs": [
    {
     "data": {
      "text/plain": [
       "array([[0., 0., 0.],\n",
       "       [0., 0., 0.]])"
      ]
     },
     "execution_count": 100,
     "metadata": {},
     "output_type": "execute_result"
    }
   ],
   "source": [
    "np.zeros((2,3)) # first item is row, second columns"
   ]
  },
  {
   "cell_type": "code",
   "execution_count": null,
   "id": "3d202dc3",
   "metadata": {},
   "outputs": [],
   "source": []
  },
  {
   "cell_type": "code",
   "execution_count": 101,
   "id": "028e2880",
   "metadata": {},
   "outputs": [],
   "source": [
    "# 1's array"
   ]
  },
  {
   "cell_type": "code",
   "execution_count": 102,
   "id": "5f3360f8",
   "metadata": {},
   "outputs": [
    {
     "data": {
      "text/plain": [
       "array([1., 1., 1., 1.])"
      ]
     },
     "execution_count": 102,
     "metadata": {},
     "output_type": "execute_result"
    }
   ],
   "source": [
    "np.ones(4)"
   ]
  },
  {
   "cell_type": "code",
   "execution_count": 103,
   "id": "f5b4b1eb",
   "metadata": {},
   "outputs": [
    {
     "data": {
      "text/plain": [
       "array([[1., 1., 1., 1.],\n",
       "       [1., 1., 1., 1.],\n",
       "       [1., 1., 1., 1.]])"
      ]
     },
     "execution_count": 103,
     "metadata": {},
     "output_type": "execute_result"
    }
   ],
   "source": [
    "np.ones((3,4)) #2D array"
   ]
  },
  {
   "cell_type": "code",
   "execution_count": null,
   "id": "2b8bdb73",
   "metadata": {},
   "outputs": [],
   "source": []
  },
  {
   "cell_type": "code",
   "execution_count": 104,
   "id": "1efacda3",
   "metadata": {},
   "outputs": [],
   "source": [
    "# linscape is like range but returns evenly spaced array"
   ]
  },
  {
   "cell_type": "code",
   "execution_count": 105,
   "id": "389fd46c",
   "metadata": {},
   "outputs": [
    {
     "data": {
      "text/plain": [
       "array([0.        , 0.55555556, 1.11111111, 1.66666667, 2.22222222,\n",
       "       2.77777778, 3.33333333, 3.88888889, 4.44444444, 5.        ])"
      ]
     },
     "execution_count": 105,
     "metadata": {},
     "output_type": "execute_result"
    }
   ],
   "source": [
    "np.linspace(0,5,10) # start, stop, number of evenly spaced items 1D array"
   ]
  },
  {
   "cell_type": "code",
   "execution_count": null,
   "id": "b924005c",
   "metadata": {},
   "outputs": [],
   "source": []
  },
  {
   "cell_type": "code",
   "execution_count": 106,
   "id": "4028ebca",
   "metadata": {},
   "outputs": [],
   "source": [
    "# eye matrix - 2D square matrix where 1 is diagonal"
   ]
  },
  {
   "cell_type": "code",
   "execution_count": 107,
   "id": "c6c8e5fe",
   "metadata": {},
   "outputs": [
    {
     "data": {
      "text/plain": [
       "array([[1., 0., 0., 0.],\n",
       "       [0., 1., 0., 0.],\n",
       "       [0., 0., 1., 0.],\n",
       "       [0., 0., 0., 1.]])"
      ]
     },
     "execution_count": 107,
     "metadata": {},
     "output_type": "execute_result"
    }
   ],
   "source": [
    "np.eye(4)"
   ]
  },
  {
   "cell_type": "code",
   "execution_count": null,
   "id": "2820730c",
   "metadata": {},
   "outputs": [],
   "source": []
  },
  {
   "cell_type": "code",
   "execution_count": 108,
   "id": "d96b8fbd",
   "metadata": {},
   "outputs": [],
   "source": [
    "# random.rand"
   ]
  },
  {
   "cell_type": "code",
   "execution_count": 109,
   "id": "903d2a19",
   "metadata": {},
   "outputs": [
    {
     "data": {
      "text/plain": [
       "array([0.15871252, 0.11614221, 0.47668084, 0.25596337, 0.69701515])"
      ]
     },
     "execution_count": 109,
     "metadata": {},
     "output_type": "execute_result"
    }
   ],
   "source": [
    "np.random.rand(5) # populates a 1D array with random numbers between 0 and 1"
   ]
  },
  {
   "cell_type": "code",
   "execution_count": 110,
   "id": "f56fd0d4",
   "metadata": {},
   "outputs": [
    {
     "data": {
      "text/plain": [
       "array([[6.30982806e-01, 1.60398387e-01, 6.71266005e-02, 9.80461304e-01,\n",
       "        7.74535470e-02],\n",
       "       [6.08850918e-02, 8.25631395e-01, 3.94039712e-04, 4.01864872e-01,\n",
       "        9.07573094e-01],\n",
       "       [2.73272080e-01, 2.62741658e-01, 9.45769707e-01, 4.16662375e-01,\n",
       "        6.55920322e-01],\n",
       "       [4.45875508e-01, 2.04952565e-01, 2.89831860e-01, 9.70660061e-01,\n",
       "        2.36936239e-01],\n",
       "       [7.29140952e-02, 2.19552244e-01, 3.82059151e-01, 9.30644449e-02,\n",
       "        3.26453039e-01]])"
      ]
     },
     "execution_count": 110,
     "metadata": {},
     "output_type": "execute_result"
    }
   ],
   "source": [
    "np.random.rand(5,5) # a 3D array. no tuple needed this time!!"
   ]
  },
  {
   "cell_type": "code",
   "execution_count": null,
   "id": "cafaee2e",
   "metadata": {},
   "outputs": [],
   "source": []
  },
  {
   "cell_type": "code",
   "execution_count": 111,
   "id": "57b21327",
   "metadata": {},
   "outputs": [],
   "source": [
    "# Gaussian distribution random numbers"
   ]
  },
  {
   "cell_type": "code",
   "execution_count": 112,
   "id": "f00ed236",
   "metadata": {},
   "outputs": [
    {
     "data": {
      "text/plain": [
       "array([-0.12264915, -0.06143874, -0.50789761])"
      ]
     },
     "execution_count": 112,
     "metadata": {},
     "output_type": "execute_result"
    }
   ],
   "source": [
    "np.random.randn(3)"
   ]
  },
  {
   "cell_type": "code",
   "execution_count": 113,
   "id": "688aebc5",
   "metadata": {},
   "outputs": [
    {
     "data": {
      "text/plain": [
       "array([[-0.02581903, -0.03120128,  0.9088755 ,  0.40454703],\n",
       "       [ 0.02390803,  0.08893826, -1.19905471, -0.13093676],\n",
       "       [ 0.58278147,  0.16977075, -0.06944699, -2.07132427],\n",
       "       [-1.01239662, -0.34465556,  0.43951092, -0.46652593]])"
      ]
     },
     "execution_count": 113,
     "metadata": {},
     "output_type": "execute_result"
    }
   ],
   "source": [
    "np.random.randn(4,4) # a 2D array"
   ]
  },
  {
   "cell_type": "code",
   "execution_count": null,
   "id": "6e996020",
   "metadata": {},
   "outputs": [],
   "source": []
  },
  {
   "cell_type": "code",
   "execution_count": 114,
   "id": "faaffcb3",
   "metadata": {},
   "outputs": [],
   "source": [
    "# Random number"
   ]
  },
  {
   "cell_type": "code",
   "execution_count": 115,
   "id": "4d995c50",
   "metadata": {},
   "outputs": [
    {
     "data": {
      "text/plain": [
       "array([65,  8, 60, 80, 70, 97, 52, 87, 75, 22])"
      ]
     },
     "execution_count": 115,
     "metadata": {},
     "output_type": "execute_result"
    }
   ],
   "source": [
    "np.random.randint(1,100,10) # low and high number and number of elements"
   ]
  },
  {
   "cell_type": "code",
   "execution_count": null,
   "id": "52f3351a",
   "metadata": {},
   "outputs": [],
   "source": []
  },
  {
   "cell_type": "code",
   "execution_count": 116,
   "id": "06c66a9d",
   "metadata": {},
   "outputs": [],
   "source": [
    "# Methods "
   ]
  },
  {
   "cell_type": "code",
   "execution_count": 117,
   "id": "19dc59c2",
   "metadata": {},
   "outputs": [],
   "source": [
    "arr = np.arange(25)"
   ]
  },
  {
   "cell_type": "code",
   "execution_count": 118,
   "id": "1a58096c",
   "metadata": {},
   "outputs": [
    {
     "data": {
      "text/plain": [
       "array([ 0,  1,  2,  3,  4,  5,  6,  7,  8,  9, 10, 11, 12, 13, 14, 15, 16,\n",
       "       17, 18, 19, 20, 21, 22, 23, 24])"
      ]
     },
     "execution_count": 118,
     "metadata": {},
     "output_type": "execute_result"
    }
   ],
   "source": [
    "arr"
   ]
  },
  {
   "cell_type": "code",
   "execution_count": 119,
   "id": "f270589b",
   "metadata": {},
   "outputs": [],
   "source": [
    "ranarr = np.random.randint(0,50,10)"
   ]
  },
  {
   "cell_type": "code",
   "execution_count": 120,
   "id": "04ffb114",
   "metadata": {},
   "outputs": [
    {
     "data": {
      "text/plain": [
       "array([ 2, 34, 24, 12, 11, 42, 28,  6, 32, 18])"
      ]
     },
     "execution_count": 120,
     "metadata": {},
     "output_type": "execute_result"
    }
   ],
   "source": [
    "ranarr"
   ]
  },
  {
   "cell_type": "code",
   "execution_count": null,
   "id": "8aa3dc4b",
   "metadata": {},
   "outputs": [],
   "source": []
  },
  {
   "cell_type": "code",
   "execution_count": 121,
   "id": "2743896a",
   "metadata": {},
   "outputs": [],
   "source": [
    "# Reshape method"
   ]
  },
  {
   "cell_type": "code",
   "execution_count": 122,
   "id": "34276d0a",
   "metadata": {},
   "outputs": [
    {
     "data": {
      "text/plain": [
       "array([[ 0,  1,  2,  3,  4],\n",
       "       [ 5,  6,  7,  8,  9],\n",
       "       [10, 11, 12, 13, 14],\n",
       "       [15, 16, 17, 18, 19],\n",
       "       [20, 21, 22, 23, 24]])"
      ]
     },
     "execution_count": 122,
     "metadata": {},
     "output_type": "execute_result"
    }
   ],
   "source": [
    "arr.reshape(5,5) # will reshape to the given values row col. it needs to be filled 5 x 5 =25"
   ]
  },
  {
   "cell_type": "code",
   "execution_count": null,
   "id": "c6258eef",
   "metadata": {},
   "outputs": [],
   "source": []
  },
  {
   "cell_type": "code",
   "execution_count": 123,
   "id": "a6c428ce",
   "metadata": {},
   "outputs": [],
   "source": [
    "# Max and min value  max() min()"
   ]
  },
  {
   "cell_type": "code",
   "execution_count": 124,
   "id": "00a729f3",
   "metadata": {},
   "outputs": [
    {
     "data": {
      "text/plain": [
       "42"
      ]
     },
     "execution_count": 124,
     "metadata": {},
     "output_type": "execute_result"
    }
   ],
   "source": [
    "ranarr.max()"
   ]
  },
  {
   "cell_type": "code",
   "execution_count": 125,
   "id": "52309a3d",
   "metadata": {},
   "outputs": [
    {
     "data": {
      "text/plain": [
       "2"
      ]
     },
     "execution_count": 125,
     "metadata": {},
     "output_type": "execute_result"
    }
   ],
   "source": [
    "ranarr.min()"
   ]
  },
  {
   "cell_type": "code",
   "execution_count": null,
   "id": "e248f21f",
   "metadata": {},
   "outputs": [],
   "source": []
  },
  {
   "cell_type": "code",
   "execution_count": 126,
   "id": "d6e45247",
   "metadata": {},
   "outputs": [],
   "source": [
    "# argmax() will return the index where the highest value is located"
   ]
  },
  {
   "cell_type": "code",
   "execution_count": 127,
   "id": "46aad705",
   "metadata": {},
   "outputs": [
    {
     "data": {
      "text/plain": [
       "5"
      ]
     },
     "execution_count": 127,
     "metadata": {},
     "output_type": "execute_result"
    }
   ],
   "source": [
    "ranarr.argmax()"
   ]
  },
  {
   "cell_type": "code",
   "execution_count": 128,
   "id": "aeb173d9",
   "metadata": {},
   "outputs": [],
   "source": [
    "# argmin() will do the same with lowest value"
   ]
  },
  {
   "cell_type": "code",
   "execution_count": 129,
   "id": "d419d13e",
   "metadata": {},
   "outputs": [
    {
     "data": {
      "text/plain": [
       "0"
      ]
     },
     "execution_count": 129,
     "metadata": {},
     "output_type": "execute_result"
    }
   ],
   "source": [
    "ranarr.argmin()"
   ]
  },
  {
   "cell_type": "code",
   "execution_count": null,
   "id": "a14f3f4a",
   "metadata": {},
   "outputs": [],
   "source": []
  },
  {
   "cell_type": "code",
   "execution_count": 130,
   "id": "2b43dcb2",
   "metadata": {},
   "outputs": [],
   "source": [
    "# array shape "
   ]
  },
  {
   "cell_type": "code",
   "execution_count": 131,
   "id": "adc22140",
   "metadata": {},
   "outputs": [
    {
     "data": {
      "text/plain": [
       "(25,)"
      ]
     },
     "execution_count": 131,
     "metadata": {},
     "output_type": "execute_result"
    }
   ],
   "source": [
    "arr.shape # 1D array"
   ]
  },
  {
   "cell_type": "code",
   "execution_count": 132,
   "id": "1c13aaa3",
   "metadata": {},
   "outputs": [],
   "source": [
    "arr = arr.reshape(5,5)"
   ]
  },
  {
   "cell_type": "code",
   "execution_count": 136,
   "id": "c1a6e140",
   "metadata": {},
   "outputs": [
    {
     "data": {
      "text/plain": [
       "(5, 5)"
      ]
     },
     "execution_count": 136,
     "metadata": {},
     "output_type": "execute_result"
    }
   ],
   "source": [
    "arr.shape # 2D array"
   ]
  },
  {
   "cell_type": "raw",
   "id": "e8305246",
   "metadata": {},
   "source": []
  },
  {
   "cell_type": "code",
   "execution_count": 134,
   "id": "a612a7f2",
   "metadata": {},
   "outputs": [],
   "source": [
    "# Datatype of the array"
   ]
  },
  {
   "cell_type": "code",
   "execution_count": 137,
   "id": "374ac5e6",
   "metadata": {},
   "outputs": [
    {
     "data": {
      "text/plain": [
       "dtype('int32')"
      ]
     },
     "execution_count": 137,
     "metadata": {},
     "output_type": "execute_result"
    }
   ],
   "source": [
    "arr.dtype"
   ]
  },
  {
   "cell_type": "code",
   "execution_count": null,
   "id": "7bb7e454",
   "metadata": {},
   "outputs": [],
   "source": []
  },
  {
   "cell_type": "code",
   "execution_count": null,
   "id": "572f5ddd",
   "metadata": {},
   "outputs": [],
   "source": []
  }
 ],
 "metadata": {
  "kernelspec": {
   "display_name": "Python 3 (ipykernel)",
   "language": "python",
   "name": "python3"
  },
  "language_info": {
   "codemirror_mode": {
    "name": "ipython",
    "version": 3
   },
   "file_extension": ".py",
   "mimetype": "text/x-python",
   "name": "python",
   "nbconvert_exporter": "python",
   "pygments_lexer": "ipython3",
   "version": "3.9.12"
  }
 },
 "nbformat": 4,
 "nbformat_minor": 5
}
