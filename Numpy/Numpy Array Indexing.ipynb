{
 "cells": [
  {
   "cell_type": "code",
   "execution_count": 1,
   "id": "aba3c767",
   "metadata": {},
   "outputs": [],
   "source": [
    "# Array indexing"
   ]
  },
  {
   "cell_type": "code",
   "execution_count": 2,
   "id": "85142dd4",
   "metadata": {},
   "outputs": [],
   "source": [
    "import numpy as np"
   ]
  },
  {
   "cell_type": "code",
   "execution_count": 5,
   "id": "c8231f6a",
   "metadata": {},
   "outputs": [],
   "source": [
    "arr = np.arange(0,11)"
   ]
  },
  {
   "cell_type": "code",
   "execution_count": 6,
   "id": "756be297",
   "metadata": {},
   "outputs": [
    {
     "data": {
      "text/plain": [
       "array([ 0,  1,  2,  3,  4,  5,  6,  7,  8,  9, 10])"
      ]
     },
     "execution_count": 6,
     "metadata": {},
     "output_type": "execute_result"
    }
   ],
   "source": [
    "arr"
   ]
  },
  {
   "cell_type": "code",
   "execution_count": null,
   "id": "97884074",
   "metadata": {},
   "outputs": [],
   "source": []
  },
  {
   "cell_type": "code",
   "execution_count": 15,
   "id": "740304d6",
   "metadata": {},
   "outputs": [],
   "source": [
    "# indexing on a 1D array [start:stop:step]"
   ]
  },
  {
   "cell_type": "code",
   "execution_count": 10,
   "id": "b1a87272",
   "metadata": {},
   "outputs": [
    {
     "data": {
      "text/plain": [
       "8"
      ]
     },
     "execution_count": 10,
     "metadata": {},
     "output_type": "execute_result"
    }
   ],
   "source": [
    "arr[8]"
   ]
  },
  {
   "cell_type": "code",
   "execution_count": 11,
   "id": "3e30f2e9",
   "metadata": {},
   "outputs": [
    {
     "data": {
      "text/plain": [
       "array([1, 2, 3, 4])"
      ]
     },
     "execution_count": 11,
     "metadata": {},
     "output_type": "execute_result"
    }
   ],
   "source": [
    "arr[1:5]"
   ]
  },
  {
   "cell_type": "code",
   "execution_count": 13,
   "id": "e65363f2",
   "metadata": {},
   "outputs": [
    {
     "data": {
      "text/plain": [
       "array([0, 1, 2, 3, 4])"
      ]
     },
     "execution_count": 13,
     "metadata": {},
     "output_type": "execute_result"
    }
   ],
   "source": [
    "arr[:5]"
   ]
  },
  {
   "cell_type": "code",
   "execution_count": 14,
   "id": "2ef67e96",
   "metadata": {},
   "outputs": [
    {
     "data": {
      "text/plain": [
       "array([ 0,  2,  4,  6,  8, 10])"
      ]
     },
     "execution_count": 14,
     "metadata": {},
     "output_type": "execute_result"
    }
   ],
   "source": [
    "arr[::2] # step"
   ]
  },
  {
   "cell_type": "code",
   "execution_count": null,
   "id": "cdc692f6",
   "metadata": {},
   "outputs": [],
   "source": []
  },
  {
   "cell_type": "code",
   "execution_count": null,
   "id": "372de5c4",
   "metadata": {},
   "outputs": [],
   "source": [
    "# replacing values"
   ]
  },
  {
   "cell_type": "code",
   "execution_count": 16,
   "id": "b6b370d9",
   "metadata": {},
   "outputs": [],
   "source": [
    "arr[:5] = 100"
   ]
  },
  {
   "cell_type": "code",
   "execution_count": 17,
   "id": "b1b0d617",
   "metadata": {},
   "outputs": [
    {
     "data": {
      "text/plain": [
       "array([100, 100, 100, 100, 100,   5,   6,   7,   8,   9,  10])"
      ]
     },
     "execution_count": 17,
     "metadata": {},
     "output_type": "execute_result"
    }
   ],
   "source": [
    "arr"
   ]
  },
  {
   "cell_type": "code",
   "execution_count": null,
   "id": "1e03ad40",
   "metadata": {},
   "outputs": [],
   "source": []
  },
  {
   "cell_type": "code",
   "execution_count": 18,
   "id": "ac551dc3",
   "metadata": {},
   "outputs": [],
   "source": [
    "arr = np.arange(0,11)"
   ]
  },
  {
   "cell_type": "code",
   "execution_count": 19,
   "id": "ca213951",
   "metadata": {},
   "outputs": [],
   "source": [
    "slice_of_arr = arr[:6]"
   ]
  },
  {
   "cell_type": "code",
   "execution_count": 20,
   "id": "b204cd2b",
   "metadata": {},
   "outputs": [],
   "source": [
    "slice_of_arr[:] = 99"
   ]
  },
  {
   "cell_type": "code",
   "execution_count": 21,
   "id": "7d9f1967",
   "metadata": {},
   "outputs": [
    {
     "data": {
      "text/plain": [
       "array([99, 99, 99, 99, 99, 99])"
      ]
     },
     "execution_count": 21,
     "metadata": {},
     "output_type": "execute_result"
    }
   ],
   "source": [
    "slice_of_arr"
   ]
  },
  {
   "cell_type": "code",
   "execution_count": 22,
   "id": "92d08b99",
   "metadata": {},
   "outputs": [
    {
     "data": {
      "text/plain": [
       "array([99, 99, 99, 99, 99, 99,  6,  7,  8,  9, 10])"
      ]
     },
     "execution_count": 22,
     "metadata": {},
     "output_type": "execute_result"
    }
   ],
   "source": [
    "arr  #changes in both arrays!!!"
   ]
  },
  {
   "cell_type": "code",
   "execution_count": null,
   "id": "e5babe58",
   "metadata": {},
   "outputs": [],
   "source": []
  },
  {
   "cell_type": "code",
   "execution_count": 30,
   "id": "96ae9ee3",
   "metadata": {},
   "outputs": [],
   "source": [
    "# if you want a copy to avoid it! .copy()"
   ]
  },
  {
   "cell_type": "code",
   "execution_count": 24,
   "id": "cbb0c8d3",
   "metadata": {},
   "outputs": [],
   "source": [
    "arr_copy = arr.copy() "
   ]
  },
  {
   "cell_type": "code",
   "execution_count": 25,
   "id": "8ef26c4f",
   "metadata": {},
   "outputs": [
    {
     "data": {
      "text/plain": [
       "array([99, 99, 99, 99, 99, 99,  6,  7,  8,  9, 10])"
      ]
     },
     "execution_count": 25,
     "metadata": {},
     "output_type": "execute_result"
    }
   ],
   "source": [
    "arr"
   ]
  },
  {
   "cell_type": "code",
   "execution_count": 27,
   "id": "dda913b2",
   "metadata": {},
   "outputs": [],
   "source": [
    "arr_copy[:] = 100"
   ]
  },
  {
   "cell_type": "code",
   "execution_count": 28,
   "id": "c10a2720",
   "metadata": {},
   "outputs": [
    {
     "data": {
      "text/plain": [
       "array([99, 99, 99, 99, 99, 99,  6,  7,  8,  9, 10])"
      ]
     },
     "execution_count": 28,
     "metadata": {},
     "output_type": "execute_result"
    }
   ],
   "source": [
    "arr"
   ]
  },
  {
   "cell_type": "code",
   "execution_count": 29,
   "id": "c0efb26f",
   "metadata": {},
   "outputs": [
    {
     "data": {
      "text/plain": [
       "array([100, 100, 100, 100, 100, 100, 100, 100, 100, 100, 100])"
      ]
     },
     "execution_count": 29,
     "metadata": {},
     "output_type": "execute_result"
    }
   ],
   "source": [
    "arr_copy "
   ]
  },
  {
   "cell_type": "code",
   "execution_count": null,
   "id": "6ddf4031",
   "metadata": {},
   "outputs": [],
   "source": []
  },
  {
   "cell_type": "code",
   "execution_count": 31,
   "id": "30eb6de4",
   "metadata": {},
   "outputs": [],
   "source": [
    "# Indexing 2D array"
   ]
  },
  {
   "cell_type": "code",
   "execution_count": 33,
   "id": "762e9b9c",
   "metadata": {},
   "outputs": [],
   "source": [
    "arr_2D = np.array([[5,10,15],[20,25,30],[34,40,45]])"
   ]
  },
  {
   "cell_type": "code",
   "execution_count": 34,
   "id": "b3a5c552",
   "metadata": {},
   "outputs": [
    {
     "data": {
      "text/plain": [
       "array([[ 5, 10, 15],\n",
       "       [20, 25, 30],\n",
       "       [34, 40, 45]])"
      ]
     },
     "execution_count": 34,
     "metadata": {},
     "output_type": "execute_result"
    }
   ],
   "source": [
    "arr_2D"
   ]
  },
  {
   "cell_type": "code",
   "execution_count": null,
   "id": "893c7211",
   "metadata": {},
   "outputs": [],
   "source": []
  },
  {
   "cell_type": "code",
   "execution_count": 35,
   "id": "f15a27c5",
   "metadata": {},
   "outputs": [],
   "source": [
    "# double bracket format (not ideal!)"
   ]
  },
  {
   "cell_type": "code",
   "execution_count": 37,
   "id": "dcc8dc0c",
   "metadata": {},
   "outputs": [
    {
     "data": {
      "text/plain": [
       "5"
      ]
     },
     "execution_count": 37,
     "metadata": {},
     "output_type": "execute_result"
    }
   ],
   "source": [
    "arr_2D[0][0] # row column"
   ]
  },
  {
   "cell_type": "code",
   "execution_count": 38,
   "id": "18a1a9ed",
   "metadata": {},
   "outputs": [
    {
     "data": {
      "text/plain": [
       "array([ 5, 10, 15])"
      ]
     },
     "execution_count": 38,
     "metadata": {},
     "output_type": "execute_result"
    }
   ],
   "source": [
    "arr_2D[0] #row"
   ]
  },
  {
   "cell_type": "code",
   "execution_count": 39,
   "id": "210b60b3",
   "metadata": {},
   "outputs": [
    {
     "data": {
      "text/plain": [
       "25"
      ]
     },
     "execution_count": 39,
     "metadata": {},
     "output_type": "execute_result"
    }
   ],
   "source": [
    "arr_2D[1][1] # row column"
   ]
  },
  {
   "cell_type": "code",
   "execution_count": 40,
   "id": "7074249b",
   "metadata": {},
   "outputs": [
    {
     "data": {
      "text/plain": [
       "40"
      ]
     },
     "execution_count": 40,
     "metadata": {},
     "output_type": "execute_result"
    }
   ],
   "source": [
    "arr_2D[2][1] # row  column"
   ]
  },
  {
   "cell_type": "code",
   "execution_count": null,
   "id": "4c0e0de5",
   "metadata": {},
   "outputs": [],
   "source": []
  },
  {
   "cell_type": "code",
   "execution_count": 41,
   "id": "4182a66e",
   "metadata": {},
   "outputs": [],
   "source": [
    "# comma single bracket notation"
   ]
  },
  {
   "cell_type": "code",
   "execution_count": 43,
   "id": "31ea536c",
   "metadata": {},
   "outputs": [
    {
     "data": {
      "text/plain": [
       "30"
      ]
     },
     "execution_count": 43,
     "metadata": {},
     "output_type": "execute_result"
    }
   ],
   "source": [
    "arr_2D[1,2]  # [row, column]"
   ]
  },
  {
   "cell_type": "code",
   "execution_count": null,
   "id": "fde206f2",
   "metadata": {},
   "outputs": [],
   "source": []
  },
  {
   "cell_type": "code",
   "execution_count": 44,
   "id": "96207916",
   "metadata": {},
   "outputs": [],
   "source": [
    "# submatrices of it"
   ]
  },
  {
   "cell_type": "code",
   "execution_count": 49,
   "id": "220383c3",
   "metadata": {},
   "outputs": [
    {
     "data": {
      "text/plain": [
       "array([[10, 15],\n",
       "       [25, 30]])"
      ]
     },
     "execution_count": 49,
     "metadata": {},
     "output_type": "execute_result"
    }
   ],
   "source": [
    "arr_2D[:2,1:] # slicing ronw, slicing column"
   ]
  },
  {
   "cell_type": "code",
   "execution_count": 56,
   "id": "405318f8",
   "metadata": {},
   "outputs": [
    {
     "data": {
      "text/plain": [
       "array([[20, 25],\n",
       "       [34, 40]])"
      ]
     },
     "execution_count": 56,
     "metadata": {},
     "output_type": "execute_result"
    }
   ],
   "source": [
    "arr_2D[1:,:2]"
   ]
  },
  {
   "cell_type": "code",
   "execution_count": 57,
   "id": "755be44d",
   "metadata": {},
   "outputs": [
    {
     "data": {
      "text/plain": [
       "array([[25, 30],\n",
       "       [40, 45]])"
      ]
     },
     "execution_count": 57,
     "metadata": {},
     "output_type": "execute_result"
    }
   ],
   "source": [
    "arr_2D[1:,1:]"
   ]
  },
  {
   "cell_type": "code",
   "execution_count": null,
   "id": "d84a414d",
   "metadata": {},
   "outputs": [],
   "source": []
  },
  {
   "cell_type": "code",
   "execution_count": 58,
   "id": "43262d78",
   "metadata": {},
   "outputs": [],
   "source": [
    "# conditional seclection! (the most important)"
   ]
  },
  {
   "cell_type": "code",
   "execution_count": 59,
   "id": "a708ed28",
   "metadata": {},
   "outputs": [],
   "source": [
    "arr = np.arange(1,11)"
   ]
  },
  {
   "cell_type": "code",
   "execution_count": 60,
   "id": "661c5a23",
   "metadata": {},
   "outputs": [
    {
     "data": {
      "text/plain": [
       "array([ 1,  2,  3,  4,  5,  6,  7,  8,  9, 10])"
      ]
     },
     "execution_count": 60,
     "metadata": {},
     "output_type": "execute_result"
    }
   ],
   "source": [
    "arr"
   ]
  },
  {
   "cell_type": "code",
   "execution_count": 62,
   "id": "a07e64dd",
   "metadata": {},
   "outputs": [],
   "source": [
    "bool_arr = arr > 5 # bool values array"
   ]
  },
  {
   "cell_type": "code",
   "execution_count": 63,
   "id": "bf793893",
   "metadata": {},
   "outputs": [
    {
     "data": {
      "text/plain": [
       "array([False, False, False, False, False,  True,  True,  True,  True,\n",
       "        True])"
      ]
     },
     "execution_count": 63,
     "metadata": {},
     "output_type": "execute_result"
    }
   ],
   "source": [
    "bool_arr"
   ]
  },
  {
   "cell_type": "code",
   "execution_count": 64,
   "id": "b6357357",
   "metadata": {},
   "outputs": [
    {
     "data": {
      "text/plain": [
       "array([ 6,  7,  8,  9, 10])"
      ]
     },
     "execution_count": 64,
     "metadata": {},
     "output_type": "execute_result"
    }
   ],
   "source": [
    "arr[bool_arr] # getting just the True value"
   ]
  },
  {
   "cell_type": "code",
   "execution_count": null,
   "id": "e517142b",
   "metadata": {},
   "outputs": [],
   "source": []
  },
  {
   "cell_type": "code",
   "execution_count": 65,
   "id": "cdf84f48",
   "metadata": {},
   "outputs": [
    {
     "data": {
      "text/plain": [
       "array([ 6,  7,  8,  9, 10])"
      ]
     },
     "execution_count": 65,
     "metadata": {},
     "output_type": "execute_result"
    }
   ],
   "source": [
    "arr[arr > 5] # everything in just one step!"
   ]
  },
  {
   "cell_type": "code",
   "execution_count": 67,
   "id": "f2a6e104",
   "metadata": {},
   "outputs": [
    {
     "data": {
      "text/plain": [
       "array([1, 2])"
      ]
     },
     "execution_count": 67,
     "metadata": {},
     "output_type": "execute_result"
    }
   ],
   "source": [
    "arr[arr < 3] # grabbing all elements less than 3"
   ]
  },
  {
   "cell_type": "code",
   "execution_count": null,
   "id": "c38fea50",
   "metadata": {},
   "outputs": [],
   "source": []
  },
  {
   "cell_type": "code",
   "execution_count": null,
   "id": "b46cdda5",
   "metadata": {},
   "outputs": [],
   "source": [
    "# Recap! indexing on 2D arrays!"
   ]
  },
  {
   "cell_type": "code",
   "execution_count": 68,
   "id": "bf4c4d06",
   "metadata": {},
   "outputs": [],
   "source": [
    "arr_2D = np.arange(50).reshape(5,10)"
   ]
  },
  {
   "cell_type": "code",
   "execution_count": 69,
   "id": "f728ac6d",
   "metadata": {},
   "outputs": [
    {
     "data": {
      "text/plain": [
       "array([[ 0,  1,  2,  3,  4,  5,  6,  7,  8,  9],\n",
       "       [10, 11, 12, 13, 14, 15, 16, 17, 18, 19],\n",
       "       [20, 21, 22, 23, 24, 25, 26, 27, 28, 29],\n",
       "       [30, 31, 32, 33, 34, 35, 36, 37, 38, 39],\n",
       "       [40, 41, 42, 43, 44, 45, 46, 47, 48, 49]])"
      ]
     },
     "execution_count": 69,
     "metadata": {},
     "output_type": "execute_result"
    }
   ],
   "source": [
    "arr_2D"
   ]
  },
  {
   "cell_type": "code",
   "execution_count": 71,
   "id": "e6a07198",
   "metadata": {},
   "outputs": [],
   "source": [
    "# grab 13,2, 23, 24"
   ]
  },
  {
   "cell_type": "code",
   "execution_count": 74,
   "id": "8a01835e",
   "metadata": {},
   "outputs": [
    {
     "data": {
      "text/plain": [
       "array([[13, 14],\n",
       "       [23, 24]])"
      ]
     },
     "execution_count": 74,
     "metadata": {},
     "output_type": "execute_result"
    }
   ],
   "source": [
    "arr_2D[1:3,3:5]"
   ]
  },
  {
   "cell_type": "code",
   "execution_count": null,
   "id": "e414674b",
   "metadata": {},
   "outputs": [],
   "source": []
  }
 ],
 "metadata": {
  "kernelspec": {
   "display_name": "Python 3 (ipykernel)",
   "language": "python",
   "name": "python3"
  },
  "language_info": {
   "codemirror_mode": {
    "name": "ipython",
    "version": 3
   },
   "file_extension": ".py",
   "mimetype": "text/x-python",
   "name": "python",
   "nbconvert_exporter": "python",
   "pygments_lexer": "ipython3",
   "version": "3.9.12"
  }
 },
 "nbformat": 4,
 "nbformat_minor": 5
}
