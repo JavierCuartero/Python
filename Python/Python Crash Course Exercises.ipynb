{
 "cells": [
  {
   "cell_type": "code",
   "execution_count": 1,
   "id": "42586aa5",
   "metadata": {},
   "outputs": [],
   "source": [
    "# What is 7 to the power of 4?"
   ]
  },
  {
   "cell_type": "code",
   "execution_count": 2,
   "id": "e91a3111",
   "metadata": {},
   "outputs": [
    {
     "data": {
      "text/plain": [
       "2401"
      ]
     },
     "execution_count": 2,
     "metadata": {},
     "output_type": "execute_result"
    }
   ],
   "source": [
    "7 ** 4"
   ]
  },
  {
   "cell_type": "code",
   "execution_count": null,
   "id": "de72a820",
   "metadata": {},
   "outputs": [],
   "source": []
  },
  {
   "cell_type": "code",
   "execution_count": 7,
   "id": "74348704",
   "metadata": {},
   "outputs": [],
   "source": [
    "# Split this string into a list"
   ]
  },
  {
   "cell_type": "code",
   "execution_count": 4,
   "id": "dfbe8628",
   "metadata": {},
   "outputs": [],
   "source": [
    "s = \"Hi there Sam!\""
   ]
  },
  {
   "cell_type": "code",
   "execution_count": 5,
   "id": "f5beecf3",
   "metadata": {},
   "outputs": [],
   "source": [
    "s_list = s.split()"
   ]
  },
  {
   "cell_type": "code",
   "execution_count": 6,
   "id": "541e11c9",
   "metadata": {},
   "outputs": [
    {
     "data": {
      "text/plain": [
       "['Hi', 'there', 'Sam!']"
      ]
     },
     "execution_count": 6,
     "metadata": {},
     "output_type": "execute_result"
    }
   ],
   "source": [
    "s_list"
   ]
  },
  {
   "cell_type": "code",
   "execution_count": null,
   "id": "98bcbb67",
   "metadata": {},
   "outputs": [],
   "source": []
  },
  {
   "cell_type": "code",
   "execution_count": 8,
   "id": "c68f28fd",
   "metadata": {},
   "outputs": [],
   "source": [
    "# Given the variables"
   ]
  },
  {
   "cell_type": "code",
   "execution_count": 10,
   "id": "05c76d42",
   "metadata": {},
   "outputs": [],
   "source": [
    "planet = \"Earth\"\n",
    "diameter = 12742"
   ]
  },
  {
   "cell_type": "code",
   "execution_count": 11,
   "id": "4e017336",
   "metadata": {},
   "outputs": [
    {
     "name": "stdout",
     "output_type": "stream",
     "text": [
      "The diameter of Earth is 12742 kilometers.\n"
     ]
    }
   ],
   "source": [
    "print(f\"The diameter of {planet} is {diameter} kilometers.\")"
   ]
  },
  {
   "cell_type": "code",
   "execution_count": null,
   "id": "ed8bd43a",
   "metadata": {},
   "outputs": [],
   "source": []
  },
  {
   "cell_type": "code",
   "execution_count": 12,
   "id": "0b09ba6f",
   "metadata": {},
   "outputs": [],
   "source": [
    "# Grab the word \"hello\""
   ]
  },
  {
   "cell_type": "code",
   "execution_count": 13,
   "id": "a84a1a90",
   "metadata": {},
   "outputs": [],
   "source": [
    "lst = [1,2,[3,4],[5,[100,200,['hello']],23,11],1,7]"
   ]
  },
  {
   "cell_type": "code",
   "execution_count": 18,
   "id": "147e8503",
   "metadata": {},
   "outputs": [
    {
     "data": {
      "text/plain": [
       "'hello'"
      ]
     },
     "execution_count": 18,
     "metadata": {},
     "output_type": "execute_result"
    }
   ],
   "source": [
    "lst[3][1][2][0]"
   ]
  },
  {
   "cell_type": "code",
   "execution_count": 19,
   "id": "a5c2fd24",
   "metadata": {},
   "outputs": [],
   "source": [
    "d = {'k1':[1,2,3,{'tricky':['oh','man','inception',{'target':[1,2,3,'hello']}]}]}"
   ]
  },
  {
   "cell_type": "code",
   "execution_count": 26,
   "id": "8929bdaf",
   "metadata": {},
   "outputs": [
    {
     "data": {
      "text/plain": [
       "'hello'"
      ]
     },
     "execution_count": 26,
     "metadata": {},
     "output_type": "execute_result"
    }
   ],
   "source": [
    "d[\"k1\"][3][\"tricky\"][3][\"target\"][3]"
   ]
  },
  {
   "cell_type": "code",
   "execution_count": null,
   "id": "9f9fa543",
   "metadata": {},
   "outputs": [],
   "source": []
  },
  {
   "cell_type": "code",
   "execution_count": 27,
   "id": "2c0fa0c6",
   "metadata": {},
   "outputs": [],
   "source": [
    "# Create a function that grabs the email website domain"
   ]
  },
  {
   "cell_type": "code",
   "execution_count": 36,
   "id": "b00023a8",
   "metadata": {},
   "outputs": [],
   "source": [
    "def domain_get(email):\n",
    "    email_split = email.split(\"@\")\n",
    "    return email_split[-1]"
   ]
  },
  {
   "cell_type": "code",
   "execution_count": 37,
   "id": "1b29018e",
   "metadata": {},
   "outputs": [
    {
     "data": {
      "text/plain": [
       "'domain.com'"
      ]
     },
     "execution_count": 37,
     "metadata": {},
     "output_type": "execute_result"
    }
   ],
   "source": [
    "domain_get(\"user@domain.com\")"
   ]
  },
  {
   "cell_type": "code",
   "execution_count": null,
   "id": "6b24c750",
   "metadata": {},
   "outputs": [],
   "source": []
  },
  {
   "cell_type": "code",
   "execution_count": 38,
   "id": "3f23d7ba",
   "metadata": {},
   "outputs": [],
   "source": [
    "# Create a basic function that returns True if the word dog is contained in the input string"
   ]
  },
  {
   "cell_type": "code",
   "execution_count": 40,
   "id": "d8b8cf1a",
   "metadata": {},
   "outputs": [],
   "source": [
    "def find_dog(string):\n",
    "    if \"dog\" in string.split():\n",
    "        return True\n",
    "    else:\n",
    "        return False"
   ]
  },
  {
   "cell_type": "code",
   "execution_count": 41,
   "id": "62f0b028",
   "metadata": {},
   "outputs": [
    {
     "data": {
      "text/plain": [
       "True"
      ]
     },
     "execution_count": 41,
     "metadata": {},
     "output_type": "execute_result"
    }
   ],
   "source": [
    "find_dog(\"Is there a dog there?\")"
   ]
  },
  {
   "cell_type": "code",
   "execution_count": null,
   "id": "59af1a63",
   "metadata": {},
   "outputs": [],
   "source": []
  },
  {
   "cell_type": "code",
   "execution_count": 42,
   "id": "b9d47791",
   "metadata": {},
   "outputs": [],
   "source": [
    "# Create a function that counts the number of times the word dog occurs in a string"
   ]
  },
  {
   "cell_type": "code",
   "execution_count": 46,
   "id": "81e0ba1d",
   "metadata": {},
   "outputs": [],
   "source": [
    "def count_dog(string):\n",
    "    count = 0\n",
    "    for w in string.split():\n",
    "        if w == \"dog\":\n",
    "            count += 1\n",
    "    return count"
   ]
  },
  {
   "cell_type": "code",
   "execution_count": 47,
   "id": "7968bd4d",
   "metadata": {},
   "outputs": [
    {
     "data": {
      "text/plain": [
       "2"
      ]
     },
     "execution_count": 47,
     "metadata": {},
     "output_type": "execute_result"
    }
   ],
   "source": [
    "count_dog(\"This dog runs faster than the other dog dude!\")"
   ]
  },
  {
   "cell_type": "code",
   "execution_count": null,
   "id": "65aa9d86",
   "metadata": {},
   "outputs": [],
   "source": []
  },
  {
   "cell_type": "code",
   "execution_count": 48,
   "id": "c68899b3",
   "metadata": {},
   "outputs": [],
   "source": [
    "# Use lambda expressions and filter() function to filter our words that dont start with the letter \"s\""
   ]
  },
  {
   "cell_type": "code",
   "execution_count": 49,
   "id": "4df10c10",
   "metadata": {},
   "outputs": [],
   "source": [
    "seq = [\"soup\", \"dog\", \"salad\", \"cat\", \"great\"]"
   ]
  },
  {
   "cell_type": "code",
   "execution_count": 52,
   "id": "17302457",
   "metadata": {},
   "outputs": [
    {
     "data": {
      "text/plain": [
       "['soup', 'salad']"
      ]
     },
     "execution_count": 52,
     "metadata": {},
     "output_type": "execute_result"
    }
   ],
   "source": [
    "list(filter(lambda word : word[0] == \"s\", seq))"
   ]
  },
  {
   "cell_type": "code",
   "execution_count": null,
   "id": "38db5c24",
   "metadata": {},
   "outputs": [],
   "source": []
  },
  {
   "cell_type": "code",
   "execution_count": 53,
   "id": "6ad9d9fc",
   "metadata": {},
   "outputs": [],
   "source": [
    "# Write a function that returns one of the three possible results: \"No ticket\", \"Small ticket\" and \"Big ticket\".\n",
    "# If your is speed is 60 or less = \"No ticket\"\n",
    "# if your speed is between 61 and 80 inclusive = \"Small ticket\"\n",
    "# if your speed is above 80 = \"Big ticket\" unless it is your birthday "
   ]
  },
  {
   "cell_type": "code",
   "execution_count": 57,
   "id": "e9895f92",
   "metadata": {},
   "outputs": [],
   "source": [
    "def caught_speeding(speed, is_birthday):\n",
    "    if speed < 65 and is_birthday:\n",
    "        return \"No ticket\"\n",
    "    elif speed < 60 and is_birthday == False:\n",
    "        return \"No ticket\"\n",
    "    elif 61 < speed <= 85 and is_birthday:\n",
    "        return \"Small ticket\"            \n",
    "    elif 61 < speed <= 80 and is_birthday == False:\n",
    "        return \"Small ticket\"  \n",
    "    elif speed > 85 and is_birthday:   \n",
    "        return \"Big ticket\"\n",
    "    elif speed > 80 and is_birthday == False:\n",
    "        return \"Big ticket\"\n",
    "    else:\n",
    "        return \"Jail!\""
   ]
  },
  {
   "cell_type": "code",
   "execution_count": 58,
   "id": "b21f4dec",
   "metadata": {},
   "outputs": [
    {
     "data": {
      "text/plain": [
       "'Small ticket'"
      ]
     },
     "execution_count": 58,
     "metadata": {},
     "output_type": "execute_result"
    }
   ],
   "source": [
    "caught_speeding(81,True)"
   ]
  },
  {
   "cell_type": "code",
   "execution_count": 59,
   "id": "f4248e1b",
   "metadata": {},
   "outputs": [
    {
     "data": {
      "text/plain": [
       "'Big ticket'"
      ]
     },
     "execution_count": 59,
     "metadata": {},
     "output_type": "execute_result"
    }
   ],
   "source": [
    "caught_speeding(81,False)"
   ]
  },
  {
   "cell_type": "code",
   "execution_count": null,
   "id": "0ee988f3",
   "metadata": {},
   "outputs": [],
   "source": []
  }
 ],
 "metadata": {
  "kernelspec": {
   "display_name": "Python 3 (ipykernel)",
   "language": "python",
   "name": "python3"
  },
  "language_info": {
   "codemirror_mode": {
    "name": "ipython",
    "version": 3
   },
   "file_extension": ".py",
   "mimetype": "text/x-python",
   "name": "python",
   "nbconvert_exporter": "python",
   "pygments_lexer": "ipython3",
   "version": "3.9.12"
  }
 },
 "nbformat": 4,
 "nbformat_minor": 5
}
