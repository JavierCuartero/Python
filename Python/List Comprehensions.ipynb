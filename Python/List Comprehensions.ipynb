{
 "cells": [
  {
   "cell_type": "markdown",
   "id": "be66011b-134e-4fe1-9c71-e93e165166e5",
   "metadata": {},
   "source": [
    "## List Comprehensions"
   ]
  },
  {
   "cell_type": "code",
   "execution_count": 2,
   "id": "6c9da5cd-9c71-43c3-8fb1-b1f84b5e5ded",
   "metadata": {},
   "outputs": [],
   "source": [
    "# [expr for val in collection]\n",
    "# [expr for val in collection if <test>]\n",
    "# [expr for val in collection if <test1> and if <test2>]\n",
    "# [expr for val1 in collection1 and val2 in collection2]"
   ]
  },
  {
   "cell_type": "markdown",
   "id": "37286fca-18f8-4791-a518-6fcb283656b2",
   "metadata": {
    "tags": []
   },
   "source": [
    "## List of squares"
   ]
  },
  {
   "cell_type": "code",
   "execution_count": null,
   "id": "d405e7e3-c0d2-450b-bebe-777bb1c3123f",
   "metadata": {},
   "outputs": [],
   "source": [
    "# Not using list comprehension"
   ]
  },
  {
   "cell_type": "code",
   "execution_count": 4,
   "id": "6d4040ee-1c97-4c55-9307-ebdc39ad7756",
   "metadata": {},
   "outputs": [],
   "source": [
    "squares = []\n",
    "for i in range(1,101):\n",
    "    squares.append(i**2)"
   ]
  },
  {
   "cell_type": "code",
   "execution_count": 8,
   "id": "aa00eb11-5623-4bc9-beed-bc803310d32a",
   "metadata": {},
   "outputs": [
    {
     "name": "stdout",
     "output_type": "stream",
     "text": [
      "[1, 4, 9, 16, 25, 36, 49, 64, 81, 100, 121, 144, 169, 196, 225, 256, 289, 324, 361, 400, 441, 484, 529, 576, 625, 676, 729, 784, 841, 900, 961, 1024, 1089, 1156, 1225, 1296, 1369, 1444, 1521, 1600, 1681, 1764, 1849, 1936, 2025, 2116, 2209, 2304, 2401, 2500, 2601, 2704, 2809, 2916, 3025, 3136, 3249, 3364, 3481, 3600, 3721, 3844, 3969, 4096, 4225, 4356, 4489, 4624, 4761, 4900, 5041, 5184, 5329, 5476, 5625, 5776, 5929, 6084, 6241, 6400, 6561, 6724, 6889, 7056, 7225, 7396, 7569, 7744, 7921, 8100, 8281, 8464, 8649, 8836, 9025, 9216, 9409, 9604, 9801, 10000]\n"
     ]
    }
   ],
   "source": [
    "print(squares)"
   ]
  },
  {
   "cell_type": "code",
   "execution_count": null,
   "id": "c21ee6b2-6933-4d62-a5cf-66b67e287dc7",
   "metadata": {},
   "outputs": [],
   "source": [
    "# Using List comprehesion"
   ]
  },
  {
   "cell_type": "code",
   "execution_count": 6,
   "id": "6bc9b8a9-8423-42fd-bc29-f442a9a72d35",
   "metadata": {},
   "outputs": [],
   "source": [
    "squares2 = [i**2 for i in range(1,101)]"
   ]
  },
  {
   "cell_type": "code",
   "execution_count": 7,
   "id": "51dbfa60-4237-4e20-9649-43767e03af1a",
   "metadata": {},
   "outputs": [
    {
     "name": "stdout",
     "output_type": "stream",
     "text": [
      "[1, 4, 9, 16, 25, 36, 49, 64, 81, 100, 121, 144, 169, 196, 225, 256, 289, 324, 361, 400, 441, 484, 529, 576, 625, 676, 729, 784, 841, 900, 961, 1024, 1089, 1156, 1225, 1296, 1369, 1444, 1521, 1600, 1681, 1764, 1849, 1936, 2025, 2116, 2209, 2304, 2401, 2500, 2601, 2704, 2809, 2916, 3025, 3136, 3249, 3364, 3481, 3600, 3721, 3844, 3969, 4096, 4225, 4356, 4489, 4624, 4761, 4900, 5041, 5184, 5329, 5476, 5625, 5776, 5929, 6084, 6241, 6400, 6561, 6724, 6889, 7056, 7225, 7396, 7569, 7744, 7921, 8100, 8281, 8464, 8649, 8836, 9025, 9216, 9409, 9604, 9801, 10000]\n"
     ]
    }
   ],
   "source": [
    "print(squares2)"
   ]
  },
  {
   "cell_type": "markdown",
   "id": "99d28150-9840-4fab-b11a-478bdb04396e",
   "metadata": {},
   "source": [
    "## Check the remainders of all squares "
   ]
  },
  {
   "cell_type": "code",
   "execution_count": 9,
   "id": "ef65d4f0-bdea-4b73-b0b7-14c521baf373",
   "metadata": {},
   "outputs": [],
   "source": [
    "remainders5 = [x**2 % 5 for x in range(1,101)]"
   ]
  },
  {
   "cell_type": "code",
   "execution_count": 10,
   "id": "f1c14567-fe8d-49d7-92f4-90c8ce04e3cb",
   "metadata": {},
   "outputs": [
    {
     "name": "stdout",
     "output_type": "stream",
     "text": [
      "[1, 4, 4, 1, 0, 1, 4, 4, 1, 0, 1, 4, 4, 1, 0, 1, 4, 4, 1, 0, 1, 4, 4, 1, 0, 1, 4, 4, 1, 0, 1, 4, 4, 1, 0, 1, 4, 4, 1, 0, 1, 4, 4, 1, 0, 1, 4, 4, 1, 0, 1, 4, 4, 1, 0, 1, 4, 4, 1, 0, 1, 4, 4, 1, 0, 1, 4, 4, 1, 0, 1, 4, 4, 1, 0, 1, 4, 4, 1, 0, 1, 4, 4, 1, 0, 1, 4, 4, 1, 0, 1, 4, 4, 1, 0, 1, 4, 4, 1, 0]\n"
     ]
    }
   ],
   "source": [
    "print(remainders5)"
   ]
  },
  {
   "cell_type": "code",
   "execution_count": 11,
   "id": "4476ae98-51b7-4d6f-afae-6c61e0354625",
   "metadata": {},
   "outputs": [],
   "source": [
    "remainders11 = [x**2 % 11 for x in range(1,101)]"
   ]
  },
  {
   "cell_type": "code",
   "execution_count": 13,
   "id": "82e3c40e-19a7-488b-ba17-7868c2028f44",
   "metadata": {},
   "outputs": [
    {
     "name": "stdout",
     "output_type": "stream",
     "text": [
      "[1, 4, 9, 5, 3, 3, 5, 9, 4, 1, 0, 1, 4, 9, 5, 3, 3, 5, 9, 4, 1, 0, 1, 4, 9, 5, 3, 3, 5, 9, 4, 1, 0, 1, 4, 9, 5, 3, 3, 5, 9, 4, 1, 0, 1, 4, 9, 5, 3, 3, 5, 9, 4, 1, 0, 1, 4, 9, 5, 3, 3, 5, 9, 4, 1, 0, 1, 4, 9, 5, 3, 3, 5, 9, 4, 1, 0, 1, 4, 9, 5, 3, 3, 5, 9, 4, 1, 0, 1, 4, 9, 5, 3, 3, 5, 9, 4, 1, 0, 1]\n"
     ]
    }
   ],
   "source": [
    "print(remainders11)"
   ]
  },
  {
   "cell_type": "code",
   "execution_count": 15,
   "id": "825f4bb6-a244-4827-935a-35bcdedb9cbd",
   "metadata": {},
   "outputs": [],
   "source": [
    "remainders3 = [x**2 % 3 for x in range(1,101)]"
   ]
  },
  {
   "cell_type": "code",
   "execution_count": 16,
   "id": "b4862999-a6d6-43e3-985d-30cff63b72d4",
   "metadata": {},
   "outputs": [
    {
     "name": "stdout",
     "output_type": "stream",
     "text": [
      "[1, 1, 0, 1, 1, 0, 1, 1, 0, 1, 1, 0, 1, 1, 0, 1, 1, 0, 1, 1, 0, 1, 1, 0, 1, 1, 0, 1, 1, 0, 1, 1, 0, 1, 1, 0, 1, 1, 0, 1, 1, 0, 1, 1, 0, 1, 1, 0, 1, 1, 0, 1, 1, 0, 1, 1, 0, 1, 1, 0, 1, 1, 0, 1, 1, 0, 1, 1, 0, 1, 1, 0, 1, 1, 0, 1, 1, 0, 1, 1, 0, 1, 1, 0, 1, 1, 0, 1, 1, 0, 1, 1, 0, 1, 1, 0, 1, 1, 0, 1]\n"
     ]
    }
   ],
   "source": [
    "print(remainders3)"
   ]
  },
  {
   "cell_type": "markdown",
   "id": "eb372624-4ae6-4c2f-b184-de201608043e",
   "metadata": {},
   "source": [
    "## If statements"
   ]
  },
  {
   "cell_type": "code",
   "execution_count": 18,
   "id": "0a971ff7-9373-47f1-8845-83301a3c5152",
   "metadata": {},
   "outputs": [],
   "source": [
    "movies = [\"Star Wars\", \"Gandhi\", \"Casablanca\", \"Shawshank Redemption\", \"Toy Story\", \n",
    "          \"Gone with the wind\", \"Citizen Kane\", \"It's a wonderful life\",\"The Wizard of Oz\", \n",
    "          \"Gattaca\",\"Rear Window\", \"Gosthbusters\", \"To kill a Mockingbird\", \"Good Will Hunting\", \n",
    "          \"2001: A space Odissey\", \"Raiders of the Lost Ark\", \"Groundhog Day\", \"Close Encouters of the Third Kind\"]"
   ]
  },
  {
   "cell_type": "code",
   "execution_count": 19,
   "id": "7bd69da4-07d9-48b6-80f4-c0e5f6cf7bcf",
   "metadata": {},
   "outputs": [],
   "source": [
    " # grab all movies starting wiht letter = G"
   ]
  },
  {
   "cell_type": "code",
   "execution_count": 21,
   "id": "3daade92-6a36-4a2b-ab49-a97d03fee0c4",
   "metadata": {},
   "outputs": [],
   "source": [
    "gmovies = []\n",
    "for movie in movies:\n",
    "    if movie.startswith(\"G\"):\n",
    "        gmovies.append(movie)"
   ]
  },
  {
   "cell_type": "code",
   "execution_count": 22,
   "id": "b3a38494-7c1f-46f8-be43-daf6aab2b6ce",
   "metadata": {},
   "outputs": [
    {
     "name": "stdout",
     "output_type": "stream",
     "text": [
      "['Gandhi', 'Gone with the wind', 'Gattaca', 'Gosthbusters', 'Good Will Hunting', 'Groundhog Day']\n"
     ]
    }
   ],
   "source": [
    "print(gmovies)"
   ]
  },
  {
   "cell_type": "code",
   "execution_count": 23,
   "id": "4a03c926-8d21-4f05-942b-1b75bb7521b3",
   "metadata": {},
   "outputs": [],
   "source": [
    "# with List Comprehesions"
   ]
  },
  {
   "cell_type": "code",
   "execution_count": 24,
   "id": "39cda1f1-4ffd-4bcd-9818-72023cce2abe",
   "metadata": {},
   "outputs": [],
   "source": [
    "gmovies = [movie for movie in movies if movie.startswith(\"G\")]"
   ]
  },
  {
   "cell_type": "code",
   "execution_count": 25,
   "id": "fda32e1d-e9bb-4576-892c-350e481a7182",
   "metadata": {},
   "outputs": [
    {
     "name": "stdout",
     "output_type": "stream",
     "text": [
      "['Gandhi', 'Gone with the wind', 'Gattaca', 'Gosthbusters', 'Good Will Hunting', 'Groundhog Day']\n"
     ]
    }
   ],
   "source": [
    "print(gmovies)"
   ]
  },
  {
   "cell_type": "markdown",
   "id": "eaca4c4d-ebea-4d86-82ec-ac42247afe82",
   "metadata": {},
   "source": [
    "## Tuples and logic statements"
   ]
  },
  {
   "cell_type": "code",
   "execution_count": 27,
   "id": "af309945-0a48-414a-a1f9-6ac16b67be15",
   "metadata": {},
   "outputs": [],
   "source": [
    "movies = [(\"Citizen Kane\", 1941), (\"Spirited Away\", 2001), (\"It's a Wonderfule Life\", 1946), (\"Gattaca\", 1997),\n",
    "         (\"No country for old men\", 2007), (\"Rear Window\", 1954), (\"The lord of the Rings\", 2001), (\"Groundhog Day\", 1993),\n",
    "         (\"Close Encounter of the Third Kind\", 1977), (\"The Royal Tenenbaums\", 2001), (\"The Aviator\", 2004), (\"Raiders of the lost Ark\", 1981)]"
   ]
  },
  {
   "cell_type": "code",
   "execution_count": 28,
   "id": "9cb0aa96-4854-41fc-844c-8c44aac149ff",
   "metadata": {},
   "outputs": [],
   "source": [
    "# find movies released before 2000"
   ]
  },
  {
   "cell_type": "code",
   "execution_count": 34,
   "id": "a1d8499f-68b5-4898-8507-1062911971af",
   "metadata": {},
   "outputs": [],
   "source": [
    "pre2k = []\n",
    "for (title, year) in movies:\n",
    "    if year < 2000:\n",
    "        pre2k.append(title)"
   ]
  },
  {
   "cell_type": "code",
   "execution_count": 35,
   "id": "f6b6afd6-9ddc-4e19-be45-41f8ed299053",
   "metadata": {},
   "outputs": [
    {
     "name": "stdout",
     "output_type": "stream",
     "text": [
      "['Citizen Kane', \"It's a Wonderfule Life\", 'Gattaca', 'Rear Window', 'Groundhog Day', 'Close Encounter of the Third Kind', 'Raiders of the lost Ark']\n"
     ]
    }
   ],
   "source": [
    "print(pre2k)"
   ]
  },
  {
   "cell_type": "code",
   "execution_count": 36,
   "id": "4a16ba82-c710-4d4e-8496-222af0681d70",
   "metadata": {},
   "outputs": [],
   "source": [
    "# With List Comprehension"
   ]
  },
  {
   "cell_type": "code",
   "execution_count": 37,
   "id": "1be782d8-5b63-4d57-8ed7-e9385a68544e",
   "metadata": {},
   "outputs": [],
   "source": [
    "pre2k = [title for (title, year) in movies if year < 2000]"
   ]
  },
  {
   "cell_type": "code",
   "execution_count": 38,
   "id": "b73a5cb1-0720-48f5-a983-379901269b9f",
   "metadata": {},
   "outputs": [
    {
     "name": "stdout",
     "output_type": "stream",
     "text": [
      "['Citizen Kane', \"It's a Wonderfule Life\", 'Gattaca', 'Rear Window', 'Groundhog Day', 'Close Encounter of the Third Kind', 'Raiders of the lost Ark']\n"
     ]
    }
   ],
   "source": [
    "print(pre2k)"
   ]
  },
  {
   "cell_type": "markdown",
   "id": "c02b2a32-73c7-46ea-928f-d2b91f8ef392",
   "metadata": {},
   "source": [
    "## Numbers "
   ]
  },
  {
   "cell_type": "code",
   "execution_count": 39,
   "id": "f5f3ddb8-ea98-4163-8609-ae6cfbd2ab29",
   "metadata": {},
   "outputs": [],
   "source": [
    "v = [2, -3, 1]"
   ]
  },
  {
   "cell_type": "code",
   "execution_count": 40,
   "id": "9902e556-a84d-4739-b690-372f1f0b2fe9",
   "metadata": {},
   "outputs": [],
   "source": [
    "# scale the vector by 4. Multiply each eelement by 4"
   ]
  },
  {
   "cell_type": "code",
   "execution_count": 41,
   "id": "315a1409-6221-4917-aee6-77dc96936358",
   "metadata": {},
   "outputs": [],
   "source": [
    "scalar = [number*4 for number in v]"
   ]
  },
  {
   "cell_type": "code",
   "execution_count": 42,
   "id": "8e1effe3-e5c7-41d8-8ed3-e024176cb786",
   "metadata": {},
   "outputs": [
    {
     "data": {
      "text/plain": [
       "[8, -12, 4]"
      ]
     },
     "execution_count": 42,
     "metadata": {},
     "output_type": "execute_result"
    }
   ],
   "source": [
    "scalar"
   ]
  },
  {
   "cell_type": "markdown",
   "id": "0f3b5b82-b0fd-4f61-83c4-b5c667fdbb19",
   "metadata": {},
   "source": [
    "## Cartesian Product"
   ]
  },
  {
   "cell_type": "code",
   "execution_count": 3,
   "id": "582b266b-f9e8-4ca5-adaf-f910abc2f0d5",
   "metadata": {},
   "outputs": [],
   "source": [
    "A = [1,3,5,7]\n",
    "B = [2,4,6,8]"
   ]
  },
  {
   "cell_type": "code",
   "execution_count": 4,
   "id": "53f7128f-59aa-47ca-a99e-e067b2b8cb45",
   "metadata": {},
   "outputs": [],
   "source": [
    "# cartesian product is the product of all items of list 1 against list two"
   ]
  },
  {
   "cell_type": "code",
   "execution_count": 5,
   "id": "dd637362-0d1f-4509-8e6d-0f23e8b43edc",
   "metadata": {},
   "outputs": [],
   "source": [
    "cartesian_product = [(a,b) for a in A for b in B]"
   ]
  },
  {
   "cell_type": "code",
   "execution_count": 6,
   "id": "e32b2baa-2b7b-4625-8e83-62834a22c54f",
   "metadata": {},
   "outputs": [
    {
     "name": "stdout",
     "output_type": "stream",
     "text": [
      "[(1, 2), (1, 4), (1, 6), (1, 8), (3, 2), (3, 4), (3, 6), (3, 8), (5, 2), (5, 4), (5, 6), (5, 8), (7, 2), (7, 4), (7, 6), (7, 8)]\n"
     ]
    }
   ],
   "source": [
    "print(cartesian_product)"
   ]
  },
  {
   "cell_type": "code",
   "execution_count": null,
   "id": "4e7b30e0-5b1b-40c2-aee7-8bda92d0aeb6",
   "metadata": {},
   "outputs": [],
   "source": []
  }
 ],
 "metadata": {
  "kernelspec": {
   "display_name": "Python 3 (ipykernel)",
   "language": "python",
   "name": "python3"
  },
  "language_info": {
   "codemirror_mode": {
    "name": "ipython",
    "version": 3
   },
   "file_extension": ".py",
   "mimetype": "text/x-python",
   "name": "python",
   "nbconvert_exporter": "python",
   "pygments_lexer": "ipython3",
   "version": "3.9.12"
  }
 },
 "nbformat": 4,
 "nbformat_minor": 5
}
