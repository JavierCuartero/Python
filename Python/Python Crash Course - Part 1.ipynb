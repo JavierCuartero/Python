{
 "cells": [
  {
   "cell_type": "code",
   "execution_count": null,
   "id": "769dbafe",
   "metadata": {},
   "outputs": [],
   "source": [
    "# Numbers in Python"
   ]
  },
  {
   "cell_type": "code",
   "execution_count": 10,
   "id": "047d65c0",
   "metadata": {},
   "outputs": [
    {
     "data": {
      "text/plain": [
       "1"
      ]
     },
     "execution_count": 10,
     "metadata": {},
     "output_type": "execute_result"
    }
   ],
   "source": [
    "1  # integer"
   ]
  },
  {
   "cell_type": "code",
   "execution_count": 2,
   "id": "c3e38a89",
   "metadata": {},
   "outputs": [
    {
     "data": {
      "text/plain": [
       "1.0"
      ]
     },
     "execution_count": 2,
     "metadata": {},
     "output_type": "execute_result"
    }
   ],
   "source": [
    "1.0 # float"
   ]
  },
  {
   "cell_type": "code",
   "execution_count": 3,
   "id": "08f09aeb",
   "metadata": {},
   "outputs": [
    {
     "data": {
      "text/plain": [
       "2"
      ]
     },
     "execution_count": 3,
     "metadata": {},
     "output_type": "execute_result"
    }
   ],
   "source": [
    "1 + 1"
   ]
  },
  {
   "cell_type": "code",
   "execution_count": 4,
   "id": "dafdd1eb",
   "metadata": {},
   "outputs": [
    {
     "data": {
      "text/plain": [
       "3"
      ]
     },
     "execution_count": 4,
     "metadata": {},
     "output_type": "execute_result"
    }
   ],
   "source": [
    "1 * 3"
   ]
  },
  {
   "cell_type": "code",
   "execution_count": 6,
   "id": "85aec82d",
   "metadata": {},
   "outputs": [
    {
     "data": {
      "text/plain": [
       "0.5"
      ]
     },
     "execution_count": 6,
     "metadata": {},
     "output_type": "execute_result"
    }
   ],
   "source": [
    "1 / 2  #  outputs float number"
   ]
  },
  {
   "cell_type": "code",
   "execution_count": 7,
   "id": "6deb4b8f",
   "metadata": {},
   "outputs": [
    {
     "data": {
      "text/plain": [
       "16"
      ]
     },
     "execution_count": 7,
     "metadata": {},
     "output_type": "execute_result"
    }
   ],
   "source": [
    "2 ** 4"
   ]
  },
  {
   "cell_type": "code",
   "execution_count": 8,
   "id": "041193b9",
   "metadata": {},
   "outputs": [
    {
     "data": {
      "text/plain": [
       "22"
      ]
     },
     "execution_count": 8,
     "metadata": {},
     "output_type": "execute_result"
    }
   ],
   "source": [
    "2 + 3 * 5 + 5"
   ]
  },
  {
   "cell_type": "code",
   "execution_count": 9,
   "id": "94c4b845",
   "metadata": {},
   "outputs": [
    {
     "data": {
      "text/plain": [
       "50"
      ]
     },
     "execution_count": 9,
     "metadata": {},
     "output_type": "execute_result"
    }
   ],
   "source": [
    "(2 + 3) * (5 + 5)"
   ]
  },
  {
   "cell_type": "code",
   "execution_count": 11,
   "id": "61d45654",
   "metadata": {},
   "outputs": [
    {
     "data": {
      "text/plain": [
       "0"
      ]
     },
     "execution_count": 11,
     "metadata": {},
     "output_type": "execute_result"
    }
   ],
   "source": [
    "4 % 2 # reaminder operation"
   ]
  },
  {
   "cell_type": "code",
   "execution_count": 12,
   "id": "0789a62b",
   "metadata": {},
   "outputs": [
    {
     "data": {
      "text/plain": [
       "1"
      ]
     },
     "execution_count": 12,
     "metadata": {},
     "output_type": "execute_result"
    }
   ],
   "source": [
    "5 % 2"
   ]
  },
  {
   "cell_type": "code",
   "execution_count": 13,
   "id": "3eb189f2",
   "metadata": {},
   "outputs": [
    {
     "data": {
      "text/plain": [
       "0"
      ]
     },
     "execution_count": 13,
     "metadata": {},
     "output_type": "execute_result"
    }
   ],
   "source": [
    "8 % 2 # if returns 0 is divided by 2"
   ]
  },
  {
   "cell_type": "code",
   "execution_count": null,
   "id": "7ea51ade",
   "metadata": {},
   "outputs": [],
   "source": []
  },
  {
   "cell_type": "code",
   "execution_count": 14,
   "id": "f2f570b3",
   "metadata": {},
   "outputs": [],
   "source": [
    "# Variable assignments"
   ]
  },
  {
   "cell_type": "code",
   "execution_count": 15,
   "id": "10c850e7",
   "metadata": {},
   "outputs": [],
   "source": [
    "var = 2"
   ]
  },
  {
   "cell_type": "code",
   "execution_count": 16,
   "id": "7d5311d5",
   "metadata": {},
   "outputs": [
    {
     "data": {
      "text/plain": [
       "2"
      ]
     },
     "execution_count": 16,
     "metadata": {},
     "output_type": "execute_result"
    }
   ],
   "source": [
    "var"
   ]
  },
  {
   "cell_type": "code",
   "execution_count": 18,
   "id": "59acf82e",
   "metadata": {},
   "outputs": [],
   "source": [
    "x = 2\n",
    "y = 3"
   ]
  },
  {
   "cell_type": "code",
   "execution_count": 19,
   "id": "aae76889",
   "metadata": {},
   "outputs": [
    {
     "data": {
      "text/plain": [
       "6"
      ]
     },
     "execution_count": 19,
     "metadata": {},
     "output_type": "execute_result"
    }
   ],
   "source": [
    "x * 3"
   ]
  },
  {
   "cell_type": "code",
   "execution_count": 20,
   "id": "d0cf8853",
   "metadata": {},
   "outputs": [],
   "source": [
    "x = x + 2"
   ]
  },
  {
   "cell_type": "code",
   "execution_count": 23,
   "id": "5baa84f7",
   "metadata": {},
   "outputs": [
    {
     "data": {
      "text/plain": [
       "4"
      ]
     },
     "execution_count": 23,
     "metadata": {},
     "output_type": "execute_result"
    }
   ],
   "source": [
    "x"
   ]
  },
  {
   "cell_type": "code",
   "execution_count": null,
   "id": "429e7a31",
   "metadata": {},
   "outputs": [],
   "source": []
  },
  {
   "cell_type": "code",
   "execution_count": 24,
   "id": "010fde2e",
   "metadata": {},
   "outputs": [],
   "source": [
    "# Strings"
   ]
  },
  {
   "cell_type": "code",
   "execution_count": 25,
   "id": "61db6545",
   "metadata": {},
   "outputs": [
    {
     "data": {
      "text/plain": [
       "'Creating a String'"
      ]
     },
     "execution_count": 25,
     "metadata": {},
     "output_type": "execute_result"
    }
   ],
   "source": [
    "\"Creating a String\""
   ]
  },
  {
   "cell_type": "code",
   "execution_count": 26,
   "id": "1e298a50",
   "metadata": {},
   "outputs": [
    {
     "data": {
      "text/plain": [
       "\"I can't go\""
      ]
     },
     "execution_count": 26,
     "metadata": {},
     "output_type": "execute_result"
    }
   ],
   "source": [
    "\"I can't go\""
   ]
  },
  {
   "cell_type": "code",
   "execution_count": 29,
   "id": "7636b138",
   "metadata": {},
   "outputs": [
    {
     "data": {
      "text/plain": [
       "'He said: \"I must go\"'"
      ]
     },
     "execution_count": 29,
     "metadata": {},
     "output_type": "execute_result"
    }
   ],
   "source": [
    "\"He said: \\\"I must go\\\"\""
   ]
  },
  {
   "cell_type": "code",
   "execution_count": 30,
   "id": "59811b57",
   "metadata": {},
   "outputs": [],
   "source": [
    "x = \"Hello\""
   ]
  },
  {
   "cell_type": "code",
   "execution_count": 31,
   "id": "96e5adcd",
   "metadata": {},
   "outputs": [
    {
     "data": {
      "text/plain": [
       "'Hello'"
      ]
     },
     "execution_count": 31,
     "metadata": {},
     "output_type": "execute_result"
    }
   ],
   "source": [
    "x"
   ]
  },
  {
   "cell_type": "code",
   "execution_count": 33,
   "id": "3a2b2e5b",
   "metadata": {},
   "outputs": [
    {
     "name": "stdout",
     "output_type": "stream",
     "text": [
      "Hello\n"
     ]
    }
   ],
   "source": [
    "print(x)  # printing"
   ]
  },
  {
   "cell_type": "code",
   "execution_count": 37,
   "id": "abc8f5f4",
   "metadata": {},
   "outputs": [],
   "source": [
    "num = 12\n",
    "name = \"Sam\""
   ]
  },
  {
   "cell_type": "code",
   "execution_count": 42,
   "id": "fc05aa2f",
   "metadata": {},
   "outputs": [
    {
     "data": {
      "text/plain": [
       "'My name is Sam and my number is 12'"
      ]
     },
     "execution_count": 42,
     "metadata": {},
     "output_type": "execute_result"
    }
   ],
   "source": [
    "f\"My name is {name} and my number is {num}\"  # f-strings"
   ]
  },
  {
   "cell_type": "code",
   "execution_count": 43,
   "id": "9365679e",
   "metadata": {},
   "outputs": [],
   "source": [
    "s = \"hello\""
   ]
  },
  {
   "cell_type": "code",
   "execution_count": 46,
   "id": "8d166e51",
   "metadata": {},
   "outputs": [
    {
     "data": {
      "text/plain": [
       "'h'"
      ]
     },
     "execution_count": 46,
     "metadata": {},
     "output_type": "execute_result"
    }
   ],
   "source": [
    "s[0] # indexing frist element"
   ]
  },
  {
   "cell_type": "code",
   "execution_count": 47,
   "id": "88602d36",
   "metadata": {},
   "outputs": [
    {
     "data": {
      "text/plain": [
       "'o'"
      ]
     },
     "execution_count": 47,
     "metadata": {},
     "output_type": "execute_result"
    }
   ],
   "source": [
    "s[-1] #last element"
   ]
  },
  {
   "cell_type": "code",
   "execution_count": 48,
   "id": "941ba07c",
   "metadata": {},
   "outputs": [
    {
     "data": {
      "text/plain": [
       "'he'"
      ]
     },
     "execution_count": 48,
     "metadata": {},
     "output_type": "execute_result"
    }
   ],
   "source": [
    "s[:2]"
   ]
  },
  {
   "cell_type": "code",
   "execution_count": 49,
   "id": "a84d2191",
   "metadata": {},
   "outputs": [
    {
     "data": {
      "text/plain": [
       "'hel'"
      ]
     },
     "execution_count": 49,
     "metadata": {},
     "output_type": "execute_result"
    }
   ],
   "source": [
    "s[0:3]"
   ]
  },
  {
   "cell_type": "code",
   "execution_count": 50,
   "id": "36020521",
   "metadata": {},
   "outputs": [
    {
     "data": {
      "text/plain": [
       "'hello'"
      ]
     },
     "execution_count": 50,
     "metadata": {},
     "output_type": "execute_result"
    }
   ],
   "source": [
    "s[:]"
   ]
  },
  {
   "cell_type": "code",
   "execution_count": null,
   "id": "f498e00c",
   "metadata": {},
   "outputs": [],
   "source": []
  },
  {
   "cell_type": "code",
   "execution_count": 51,
   "id": "fc2a4ff1",
   "metadata": {},
   "outputs": [],
   "source": [
    "# lists"
   ]
  },
  {
   "cell_type": "code",
   "execution_count": 53,
   "id": "3a62df8e",
   "metadata": {},
   "outputs": [],
   "source": [
    "my_list = [1, 2, 3]"
   ]
  },
  {
   "cell_type": "code",
   "execution_count": 1,
   "id": "f001711e",
   "metadata": {},
   "outputs": [],
   "source": [
    "my_list = [\"a\", \"b\", \"c\"]"
   ]
  },
  {
   "cell_type": "code",
   "execution_count": 2,
   "id": "693c61e8",
   "metadata": {},
   "outputs": [],
   "source": [
    "my_list.append(\"d\")  # adding an element to a list"
   ]
  },
  {
   "cell_type": "code",
   "execution_count": 3,
   "id": "c2e02623",
   "metadata": {},
   "outputs": [
    {
     "data": {
      "text/plain": [
       "['a', 'b', 'c', 'd']"
      ]
     },
     "execution_count": 3,
     "metadata": {},
     "output_type": "execute_result"
    }
   ],
   "source": [
    "my_list"
   ]
  },
  {
   "cell_type": "code",
   "execution_count": 4,
   "id": "ec3e056b",
   "metadata": {},
   "outputs": [
    {
     "data": {
      "text/plain": [
       "'a'"
      ]
     },
     "execution_count": 4,
     "metadata": {},
     "output_type": "execute_result"
    }
   ],
   "source": [
    "my_list[0]  # indexing"
   ]
  },
  {
   "cell_type": "code",
   "execution_count": 5,
   "id": "9c51aea5",
   "metadata": {},
   "outputs": [
    {
     "data": {
      "text/plain": [
       "['b', 'c']"
      ]
     },
     "execution_count": 5,
     "metadata": {},
     "output_type": "execute_result"
    }
   ],
   "source": [
    "my_list[1:3]"
   ]
  },
  {
   "cell_type": "code",
   "execution_count": 6,
   "id": "344d43c7",
   "metadata": {},
   "outputs": [],
   "source": [
    "my_list[0] = \"NEW\" # reassign values in a list"
   ]
  },
  {
   "cell_type": "code",
   "execution_count": 7,
   "id": "f9f6605a",
   "metadata": {},
   "outputs": [
    {
     "data": {
      "text/plain": [
       "['NEW', 'b', 'c', 'd']"
      ]
     },
     "execution_count": 7,
     "metadata": {},
     "output_type": "execute_result"
    }
   ],
   "source": [
    "my_list"
   ]
  },
  {
   "cell_type": "code",
   "execution_count": 8,
   "id": "0907005e",
   "metadata": {},
   "outputs": [],
   "source": [
    "nest = [1,2,[3,4]]"
   ]
  },
  {
   "cell_type": "code",
   "execution_count": 9,
   "id": "ab53ba70",
   "metadata": {},
   "outputs": [
    {
     "data": {
      "text/plain": [
       "[1, 2, [3, 4]]"
      ]
     },
     "execution_count": 9,
     "metadata": {},
     "output_type": "execute_result"
    }
   ],
   "source": [
    "nest"
   ]
  },
  {
   "cell_type": "code",
   "execution_count": 11,
   "id": "8f8fa1e5",
   "metadata": {},
   "outputs": [
    {
     "data": {
      "text/plain": [
       "[3, 4]"
      ]
     },
     "execution_count": 11,
     "metadata": {},
     "output_type": "execute_result"
    }
   ],
   "source": [
    "nest[2]"
   ]
  },
  {
   "cell_type": "code",
   "execution_count": 12,
   "id": "7ca2095f",
   "metadata": {},
   "outputs": [
    {
     "data": {
      "text/plain": [
       "4"
      ]
     },
     "execution_count": 12,
     "metadata": {},
     "output_type": "execute_result"
    }
   ],
   "source": [
    "nest[2][1] # grabbing number 4"
   ]
  },
  {
   "cell_type": "code",
   "execution_count": 13,
   "id": "214fb17a",
   "metadata": {},
   "outputs": [],
   "source": [
    "nest = [1,2,3,[4,5,[\"target\"]]]"
   ]
  },
  {
   "cell_type": "code",
   "execution_count": 14,
   "id": "1f491c23",
   "metadata": {},
   "outputs": [
    {
     "data": {
      "text/plain": [
       "[1, 2, 3, [4, 5, ['target']]]"
      ]
     },
     "execution_count": 14,
     "metadata": {},
     "output_type": "execute_result"
    }
   ],
   "source": [
    "nest"
   ]
  },
  {
   "cell_type": "code",
   "execution_count": 16,
   "id": "1c61ca46",
   "metadata": {},
   "outputs": [
    {
     "data": {
      "text/plain": [
       "'target'"
      ]
     },
     "execution_count": 16,
     "metadata": {},
     "output_type": "execute_result"
    }
   ],
   "source": [
    "nest[3][2][0]"
   ]
  },
  {
   "cell_type": "code",
   "execution_count": null,
   "id": "333beded",
   "metadata": {},
   "outputs": [],
   "source": []
  }
 ],
 "metadata": {
  "kernelspec": {
   "display_name": "Python 3 (ipykernel)",
   "language": "python",
   "name": "python3"
  },
  "language_info": {
   "codemirror_mode": {
    "name": "ipython",
    "version": 3
   },
   "file_extension": ".py",
   "mimetype": "text/x-python",
   "name": "python",
   "nbconvert_exporter": "python",
   "pygments_lexer": "ipython3",
   "version": "3.9.12"
  }
 },
 "nbformat": 4,
 "nbformat_minor": 5
}
