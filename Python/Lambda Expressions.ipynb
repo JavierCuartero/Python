{
 "cells": [
  {
   "cell_type": "markdown",
   "id": "b93b124c-6555-4f1a-9fcd-2a84609d9d58",
   "metadata": {},
   "source": [
    "## Lambda expression with one input"
   ]
  },
  {
   "cell_type": "code",
   "execution_count": 14,
   "id": "a7ed86f7-dac3-4448-b216-258778d15503",
   "metadata": {},
   "outputs": [],
   "source": [
    "# With functions"
   ]
  },
  {
   "cell_type": "code",
   "execution_count": 7,
   "id": "d2e95bc2-0950-428f-9ecb-659bcdb87fa9",
   "metadata": {},
   "outputs": [],
   "source": [
    "def f(x):\n",
    "    return 3*x + 1"
   ]
  },
  {
   "cell_type": "code",
   "execution_count": 8,
   "id": "dd8dc940-9d92-493f-b9b2-8df55bf3d2cb",
   "metadata": {},
   "outputs": [
    {
     "data": {
      "text/plain": [
       "7"
      ]
     },
     "execution_count": 8,
     "metadata": {},
     "output_type": "execute_result"
    }
   ],
   "source": [
    "f(2)"
   ]
  },
  {
   "cell_type": "code",
   "execution_count": 9,
   "id": "788fffa8-579b-4de6-a41c-6981492b5d5a",
   "metadata": {},
   "outputs": [],
   "source": [
    "# With Lambda expressions"
   ]
  },
  {
   "cell_type": "code",
   "execution_count": 11,
   "id": "dd823ae2-52c4-4cbb-adba-bf4db6f74ad1",
   "metadata": {},
   "outputs": [],
   "source": [
    "g = lambda x:3*x + 1"
   ]
  },
  {
   "cell_type": "code",
   "execution_count": 12,
   "id": "5394a6b2-1e64-4723-a3d7-cbb9409c39be",
   "metadata": {},
   "outputs": [
    {
     "data": {
      "text/plain": [
       "7"
      ]
     },
     "execution_count": 12,
     "metadata": {},
     "output_type": "execute_result"
    }
   ],
   "source": [
    "g(2)"
   ]
  },
  {
   "cell_type": "markdown",
   "id": "42918e59-b351-4027-87b4-016de7795eb3",
   "metadata": {},
   "source": [
    "## Lambda expression with multiple inputs"
   ]
  },
  {
   "cell_type": "code",
   "execution_count": 15,
   "id": "47159aab-f517-422d-bea4-8853ce5e4d9f",
   "metadata": {},
   "outputs": [],
   "source": [
    "# combine first name and last name into a single full name"
   ]
  },
  {
   "cell_type": "code",
   "execution_count": 16,
   "id": "98d8a885-830f-487e-88b1-32fb47d1d2a3",
   "metadata": {},
   "outputs": [],
   "source": [
    "full_name = lambda fn, ln: fn.strip().title() + \" \" + ln.strip().title()"
   ]
  },
  {
   "cell_type": "code",
   "execution_count": 17,
   "id": "ce802b43-bf3a-462a-a959-315202933460",
   "metadata": {},
   "outputs": [
    {
     "data": {
      "text/plain": [
       "'Leonard Euler'"
      ]
     },
     "execution_count": 17,
     "metadata": {},
     "output_type": "execute_result"
    }
   ],
   "source": [
    "full_name(\"    leonard\", \"EULER\")"
   ]
  },
  {
   "cell_type": "markdown",
   "id": "fd875f7f-665d-45c7-8224-f32accc814e4",
   "metadata": {},
   "source": [
    "## A function with no name"
   ]
  },
  {
   "cell_type": "code",
   "execution_count": 26,
   "id": "9a6a16e8-d7cb-4ea6-ac22-3b4273a68589",
   "metadata": {},
   "outputs": [],
   "source": [
    "scifi_authors = [\"Isaac Asimov\", \"Ray Badbury\", \"Robert Heinlein\", \"Arthur s C.Clarke\", \"Frank Herbert\",\n",
    "                 \"Orson Scott Card\", \"Douglas Adams\", \"H.G. Wells\", \"Leigh Brackett\"]"
   ]
  },
  {
   "cell_type": "code",
   "execution_count": 27,
   "id": "47289d4b-0735-40de-a115-cbd2df96f296",
   "metadata": {},
   "outputs": [],
   "source": [
    "# sort them by last name"
   ]
  },
  {
   "cell_type": "code",
   "execution_count": 28,
   "id": "4d1c60dd-699b-47bd-b049-bb37c8d59625",
   "metadata": {},
   "outputs": [],
   "source": [
    "scifi_authors.sort(key = lambda name: name.split()[-1].lower())"
   ]
  },
  {
   "cell_type": "code",
   "execution_count": 29,
   "id": "115526c8-3f69-4faa-be6c-52685c77414a",
   "metadata": {},
   "outputs": [
    {
     "data": {
      "text/plain": [
       "['Douglas Adams',\n",
       " 'Isaac Asimov',\n",
       " 'Ray Badbury',\n",
       " 'Leigh Brackett',\n",
       " 'Arthur s C.Clarke',\n",
       " 'Orson Scott Card',\n",
       " 'Robert Heinlein',\n",
       " 'Frank Herbert',\n",
       " 'H.G. Wells']"
      ]
     },
     "execution_count": 29,
     "metadata": {},
     "output_type": "execute_result"
    }
   ],
   "source": [
    "scifi_authors"
   ]
  },
  {
   "cell_type": "markdown",
   "id": "7a90d553-ab2b-4090-95c5-04cdeda1edc6",
   "metadata": {},
   "source": [
    "## A function"
   ]
  },
  {
   "cell_type": "code",
   "execution_count": 30,
   "id": "4b55ebbb-fcdf-4204-be66-f2ea96cfc57d",
   "metadata": {},
   "outputs": [],
   "source": [
    "# quadratic function"
   ]
  },
  {
   "cell_type": "code",
   "execution_count": 31,
   "id": "1b5ee30f-7ead-4e24-b828-ee46defef257",
   "metadata": {},
   "outputs": [],
   "source": [
    "def build_quadratic_function(a,b,c):\n",
    "    \"\"\"Returns the function f(x) = ax^2 + b*x +c\"\"\"\n",
    "    return lambda x: a*x**2 + b*x + c"
   ]
  },
  {
   "cell_type": "code",
   "execution_count": 34,
   "id": "0f17218d-c5a6-45d2-9c98-2d5ca89b3362",
   "metadata": {},
   "outputs": [],
   "source": [
    "f = build_quadratic_function(2,3,10)"
   ]
  },
  {
   "cell_type": "code",
   "execution_count": 35,
   "id": "07127ea1-5e35-4c4b-a895-d008a2023825",
   "metadata": {},
   "outputs": [
    {
     "data": {
      "text/plain": [
       "10"
      ]
     },
     "execution_count": 35,
     "metadata": {},
     "output_type": "execute_result"
    }
   ],
   "source": [
    "f(0)"
   ]
  },
  {
   "cell_type": "code",
   "execution_count": 36,
   "id": "2e949eac-b30e-479b-9666-b7a095020d46",
   "metadata": {},
   "outputs": [
    {
     "data": {
      "text/plain": [
       "15"
      ]
     },
     "execution_count": 36,
     "metadata": {},
     "output_type": "execute_result"
    }
   ],
   "source": [
    "f(1)"
   ]
  },
  {
   "cell_type": "code",
   "execution_count": 37,
   "id": "a7e1c4f6-6b68-44a3-8e6c-da5092a35394",
   "metadata": {},
   "outputs": [
    {
     "data": {
      "text/plain": [
       "13"
      ]
     },
     "execution_count": 37,
     "metadata": {},
     "output_type": "execute_result"
    }
   ],
   "source": [
    "# but we can do it in one step\n",
    "build_quadratic_function(3, 0, 1)(2)  # 3x^2 + 0 + 1 evaluated for x =2 "
   ]
  },
  {
   "cell_type": "code",
   "execution_count": null,
   "id": "ff8da13a-65d9-4921-b863-c15cef230f19",
   "metadata": {},
   "outputs": [],
   "source": []
  }
 ],
 "metadata": {
  "kernelspec": {
   "display_name": "Python 3 (ipykernel)",
   "language": "python",
   "name": "python3"
  },
  "language_info": {
   "codemirror_mode": {
    "name": "ipython",
    "version": 3
   },
   "file_extension": ".py",
   "mimetype": "text/x-python",
   "name": "python",
   "nbconvert_exporter": "python",
   "pygments_lexer": "ipython3",
   "version": "3.9.12"
  }
 },
 "nbformat": 4,
 "nbformat_minor": 5
}
