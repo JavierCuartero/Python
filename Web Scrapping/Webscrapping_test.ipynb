{
 "cells": [
  {
   "cell_type": "code",
   "execution_count": 1,
   "id": "7960f283",
   "metadata": {},
   "outputs": [],
   "source": [
    "import requests\n",
    "from bs4 import BeautifulSoup"
   ]
  },
  {
   "cell_type": "code",
   "execution_count": 16,
   "id": "4a718699",
   "metadata": {},
   "outputs": [],
   "source": [
    "# Making a GET request\n",
    "page = requests.get(\"https://dev.parameterspace.arup.com/rHtyqcYMFWKYiG3kuv8vvY\")"
   ]
  },
  {
   "cell_type": "code",
   "execution_count": 17,
   "id": "c8febf1a",
   "metadata": {},
   "outputs": [
    {
     "data": {
      "text/plain": [
       "<Response [200]>"
      ]
     },
     "execution_count": 17,
     "metadata": {},
     "output_type": "execute_result"
    }
   ],
   "source": [
    "# check status code for response received\n",
    "# succes code - 200\n",
    "page"
   ]
  },
  {
   "cell_type": "code",
   "execution_count": 18,
   "id": "6878e2f6",
   "metadata": {},
   "outputs": [
    {
     "data": {
      "text/plain": [
       "200"
      ]
     },
     "execution_count": 18,
     "metadata": {},
     "output_type": "execute_result"
    }
   ],
   "source": [
    "#print status code --> 200 means succesfully downloaded\n",
    "page.status_code"
   ]
  },
  {
   "cell_type": "code",
   "execution_count": 19,
   "id": "a0e6b6da",
   "metadata": {},
   "outputs": [
    {
     "data": {
      "text/plain": [
       "b'<!doctype html><html lang=\"en\"><head><meta charset=\"utf-8\"/><link rel=\"icon\" href=\"/favicon.ico\"/><meta name=\"viewport\" content=\"width=device-width,initial-scale=1\"/><meta name=\"theme-color\" content=\"#000000\"/><meta name=\"description\" content=\"Arup ParameterSpace - Quickly compare and explore numerous design solutions to make informed decisions.\"/><link rel=\"apple-touch-icon\" href=\"/arupLogoRed.svg\"/><link rel=\"manifest\" href=\"/manifest.json\"/><title>ParameterSpace</title><link href=\"/static/css/2.bf91cf83.chunk.css\" rel=\"stylesheet\"><link href=\"/static/css/main.b6a804ae.chunk.css\" rel=\"stylesheet\"></head><body style=\"overflow-x:hidden\"><noscript>You need to enable JavaScript to run this app.</noscript><div id=\"root\"></div><script>!function(e){function t(t){for(var n,a,l=t[0],p=t[1],f=t[2],c=0,s=[];c<l.length;c++)a=l[c],Object.prototype.hasOwnProperty.call(o,a)&&o[a]&&s.push(o[a][0]),o[a]=0;for(n in p)Object.prototype.hasOwnProperty.call(p,n)&&(e[n]=p[n]);for(i&&i(t);s.length;)s.shift()();return u.push.apply(u,f||[]),r()}function r(){for(var e,t=0;t<u.length;t++){for(var r=u[t],n=!0,l=1;l<r.length;l++){var p=r[l];0!==o[p]&&(n=!1)}n&&(u.splice(t--,1),e=a(a.s=r[0]))}return e}var n={},o={1:0},u=[];function a(t){if(n[t])return n[t].exports;var r=n[t]={i:t,l:!1,exports:{}};return e[t].call(r.exports,r,r.exports,a),r.l=!0,r.exports}a.m=e,a.c=n,a.d=function(e,t,r){a.o(e,t)||Object.defineProperty(e,t,{enumerable:!0,get:r})},a.r=function(e){\"undefined\"!=typeof Symbol&&Symbol.toStringTag&&Object.defineProperty(e,Symbol.toStringTag,{value:\"Module\"}),Object.defineProperty(e,\"__esModule\",{value:!0})},a.t=function(e,t){if(1&t&&(e=a(e)),8&t)return e;if(4&t&&\"object\"==typeof e&&e&&e.__esModule)return e;var r=Object.create(null);if(a.r(r),Object.defineProperty(r,\"default\",{enumerable:!0,value:e}),2&t&&\"string\"!=typeof e)for(var n in e)a.d(r,n,function(t){return e[t]}.bind(null,n));return r},a.n=function(e){var t=e&&e.__esModule?function(){return e.default}:function(){return e};return a.d(t,\"a\",t),t},a.o=function(e,t){return Object.prototype.hasOwnProperty.call(e,t)},a.p=\"/\";var l=this[\"webpackJsonparup-react-template\"]=this[\"webpackJsonparup-react-template\"]||[],p=l.push.bind(l);l.push=t,l=l.slice();for(var f=0;f<l.length;f++)t(l[f]);var i=p;r()}([])</script><script src=\"/static/js/2.4a87ff45.chunk.js\"></script><script src=\"/static/js/main.0fd7779b.chunk.js\"></script></body></html>'"
      ]
     },
     "execution_count": 19,
     "metadata": {},
     "output_type": "execute_result"
    }
   ],
   "source": [
    "# print the html content of the webpage\n",
    "page.content"
   ]
  },
  {
   "cell_type": "markdown",
   "id": "af408a14",
   "metadata": {},
   "source": [
    "## Parsing the HTML"
   ]
  },
  {
   "cell_type": "code",
   "execution_count": 20,
   "id": "9798ba43",
   "metadata": {},
   "outputs": [],
   "source": [
    "soup = BeautifulSoup(page.content, \"html5lib\")"
   ]
  },
  {
   "cell_type": "code",
   "execution_count": 21,
   "id": "e1755618",
   "metadata": {
    "scrolled": true
   },
   "outputs": [
    {
     "name": "stdout",
     "output_type": "stream",
     "text": [
      "<!DOCTYPE html>\n",
      "<html lang=\"en\">\n",
      " <head>\n",
      "  <meta charset=\"utf-8\"/>\n",
      "  <link href=\"/favicon.ico\" rel=\"icon\"/>\n",
      "  <meta content=\"width=device-width,initial-scale=1\" name=\"viewport\"/>\n",
      "  <meta content=\"#000000\" name=\"theme-color\"/>\n",
      "  <meta content=\"Arup ParameterSpace - Quickly compare and explore numerous design solutions to make informed decisions.\" name=\"description\"/>\n",
      "  <link href=\"/arupLogoRed.svg\" rel=\"apple-touch-icon\"/>\n",
      "  <link href=\"/manifest.json\" rel=\"manifest\"/>\n",
      "  <title>\n",
      "   ParameterSpace\n",
      "  </title>\n",
      "  <link href=\"/static/css/2.bf91cf83.chunk.css\" rel=\"stylesheet\"/>\n",
      "  <link href=\"/static/css/main.b6a804ae.chunk.css\" rel=\"stylesheet\"/>\n",
      " </head>\n",
      " <body style=\"overflow-x:hidden\">\n",
      "  <noscript>\n",
      "   You need to enable JavaScript to run this app.\n",
      "  </noscript>\n",
      "  <div id=\"root\">\n",
      "  </div>\n",
      "  <script>\n",
      "   !function(e){function t(t){for(var n,a,l=t[0],p=t[1],f=t[2],c=0,s=[];c<l.length;c++)a=l[c],Object.prototype.hasOwnProperty.call(o,a)&&o[a]&&s.push(o[a][0]),o[a]=0;for(n in p)Object.prototype.hasOwnProperty.call(p,n)&&(e[n]=p[n]);for(i&&i(t);s.length;)s.shift()();return u.push.apply(u,f||[]),r()}function r(){for(var e,t=0;t<u.length;t++){for(var r=u[t],n=!0,l=1;l<r.length;l++){var p=r[l];0!==o[p]&&(n=!1)}n&&(u.splice(t--,1),e=a(a.s=r[0]))}return e}var n={},o={1:0},u=[];function a(t){if(n[t])return n[t].exports;var r=n[t]={i:t,l:!1,exports:{}};return e[t].call(r.exports,r,r.exports,a),r.l=!0,r.exports}a.m=e,a.c=n,a.d=function(e,t,r){a.o(e,t)||Object.defineProperty(e,t,{enumerable:!0,get:r})},a.r=function(e){\"undefined\"!=typeof Symbol&&Symbol.toStringTag&&Object.defineProperty(e,Symbol.toStringTag,{value:\"Module\"}),Object.defineProperty(e,\"__esModule\",{value:!0})},a.t=function(e,t){if(1&t&&(e=a(e)),8&t)return e;if(4&t&&\"object\"==typeof e&&e&&e.__esModule)return e;var r=Object.create(null);if(a.r(r),Object.defineProperty(r,\"default\",{enumerable:!0,value:e}),2&t&&\"string\"!=typeof e)for(var n in e)a.d(r,n,function(t){return e[t]}.bind(null,n));return r},a.n=function(e){var t=e&&e.__esModule?function(){return e.default}:function(){return e};return a.d(t,\"a\",t),t},a.o=function(e,t){return Object.prototype.hasOwnProperty.call(e,t)},a.p=\"/\";var l=this[\"webpackJsonparup-react-template\"]=this[\"webpackJsonparup-react-template\"]||[],p=l.push.bind(l);l.push=t,l=l.slice();for(var f=0;f<l.length;f++)t(l[f]);var i=p;r()}([])\n",
      "  </script>\n",
      "  <script src=\"/static/js/2.4a87ff45.chunk.js\">\n",
      "  </script>\n",
      "  <script src=\"/static/js/main.0fd7779b.chunk.js\">\n",
      "  </script>\n",
      " </body>\n",
      "</html>\n"
     ]
    }
   ],
   "source": [
    "print(soup.prettify())"
   ]
  },
  {
   "cell_type": "code",
   "execution_count": null,
   "id": "db3862b3",
   "metadata": {},
   "outputs": [],
   "source": []
  },
  {
   "cell_type": "markdown",
   "id": "c919a500",
   "metadata": {},
   "source": [
    "## Finding All Instances of a Tag at once"
   ]
  },
  {
   "cell_type": "code",
   "execution_count": 26,
   "id": "5abe4c17",
   "metadata": {},
   "outputs": [
    {
     "data": {
      "text/plain": [
       "[<div id=\"root\"></div>]"
      ]
     },
     "execution_count": 26,
     "metadata": {},
     "output_type": "execute_result"
    }
   ],
   "source": [
    "soup.findAll(\"div\")"
   ]
  },
  {
   "cell_type": "code",
   "execution_count": null,
   "id": "bd9d9553",
   "metadata": {},
   "outputs": [],
   "source": []
  }
 ],
 "metadata": {
  "kernelspec": {
   "display_name": "Python 3 (ipykernel)",
   "language": "python",
   "name": "python3"
  },
  "language_info": {
   "codemirror_mode": {
    "name": "ipython",
    "version": 3
   },
   "file_extension": ".py",
   "mimetype": "text/x-python",
   "name": "python",
   "nbconvert_exporter": "python",
   "pygments_lexer": "ipython3",
   "version": "3.9.12"
  }
 },
 "nbformat": 4,
 "nbformat_minor": 5
}
